{
 "cells": [
  {
   "cell_type": "code",
   "execution_count": 1,
   "id": "45e0f5b9",
   "metadata": {},
   "outputs": [],
   "source": [
    "#import libs\n",
    "import pandas as pd\n",
    "import numpy as np\n",
    "import os\n",
    "import sys\n",
    "import math\n",
    "import matplotlib.pyplot as plt\n",
    "from pyspark.sql import SparkSession\n",
    "from pyspark.ml.feature import StringIndexer, VectorAssembler\n",
    "from pyspark.ml.evaluation import RegressionEvaluator\n",
    "from pyspark.sql.functions import *\n",
    "from pyspark.ml.recommendation import ALS"
   ]
  },
  {
   "cell_type": "code",
   "execution_count": 2,
   "id": "fa426a45",
   "metadata": {},
   "outputs": [
    {
     "name": "stderr",
     "output_type": "stream",
     "text": [
      "Setting default log level to \"WARN\".\n",
      "To adjust logging level use sc.setLogLevel(newLevel). For SparkR, use setLogLevel(newLevel).\n",
      "23/09/01 08:52:44 WARN NativeCodeLoader: Unable to load native-hadoop library for your platform... using builtin-java classes where applicable\n"
     ]
    }
   ],
   "source": [
    "spark=SparkSession.builder.appName(\"MachineLearningInEcommerce\") \\\n",
    ".config (\"spark.sql.shuffle.partitions\", \"16\") \\\n",
    ".config(\"spark.driver.maxResultSize\",\"4g\") \\\n",
    ".config (\"spark.sql.execution.arrow.pyspark.enabled\", \"true\") \\\n",
    ".config(\"spark.driver.memory\", \"4g\") \\\n",
    ".config(\"spark.executor.cores\", \"4\") \\\n",
    ".getOrCreate()\n",
    "\n",
    "spark.sparkContext.setLogLevel(\"WARN\")"
   ]
  },
  {
   "cell_type": "code",
   "execution_count": 3,
   "id": "29679b2c",
   "metadata": {},
   "outputs": [
    {
     "data": {
      "text/html": [
       "\n",
       "            <div>\n",
       "                <p><b>SparkSession - in-memory</b></p>\n",
       "                \n",
       "        <div>\n",
       "            <p><b>SparkContext</b></p>\n",
       "\n",
       "            <p><a href=\"http://172.21.0.231:4040\">Spark UI</a></p>\n",
       "\n",
       "            <dl>\n",
       "              <dt>Version</dt>\n",
       "                <dd><code>v3.4.1</code></dd>\n",
       "              <dt>Master</dt>\n",
       "                <dd><code>local[*]</code></dd>\n",
       "              <dt>AppName</dt>\n",
       "                <dd><code>MachineLearningInEcommerce</code></dd>\n",
       "            </dl>\n",
       "        </div>\n",
       "        \n",
       "            </div>\n",
       "        "
      ],
      "text/plain": [
       "<pyspark.sql.session.SparkSession at 0x14fed3bb0>"
      ]
     },
     "execution_count": 3,
     "metadata": {},
     "output_type": "execute_result"
    }
   ],
   "source": [
    "spark"
   ]
  },
  {
   "cell_type": "code",
   "execution_count": 4,
   "id": "a4394cbf",
   "metadata": {},
   "outputs": [],
   "source": [
    "df = spark.read.csv(\"ecomerce.csv\", header=True)"
   ]
  },
  {
   "cell_type": "code",
   "execution_count": 5,
   "id": "2f0f3fee",
   "metadata": {},
   "outputs": [],
   "source": [
    "org_df = df"
   ]
  },
  {
   "cell_type": "code",
   "execution_count": 6,
   "id": "6514d4da",
   "metadata": {},
   "outputs": [
    {
     "data": {
      "text/plain": [
       "['event_time',\n",
       " 'event_type',\n",
       " 'product_id',\n",
       " 'category_id',\n",
       " 'category_code',\n",
       " 'brand',\n",
       " 'price',\n",
       " 'user_id',\n",
       " 'user_session']"
      ]
     },
     "execution_count": 6,
     "metadata": {},
     "output_type": "execute_result"
    }
   ],
   "source": [
    "df.columns"
   ]
  },
  {
   "cell_type": "code",
   "execution_count": 7,
   "id": "590fe4ad",
   "metadata": {},
   "outputs": [
    {
     "name": "stdout",
     "output_type": "stream",
     "text": [
      "root\n",
      " |-- event_time: string (nullable = true)\n",
      " |-- event_type: string (nullable = true)\n",
      " |-- product_id: string (nullable = true)\n",
      " |-- category_id: string (nullable = true)\n",
      " |-- category_code: string (nullable = true)\n",
      " |-- brand: string (nullable = true)\n",
      " |-- price: string (nullable = true)\n",
      " |-- user_id: string (nullable = true)\n",
      " |-- user_session: string (nullable = true)\n",
      "\n"
     ]
    }
   ],
   "source": [
    "df.printSchema()"
   ]
  },
  {
   "cell_type": "code",
   "execution_count": 8,
   "id": "2375e411",
   "metadata": {},
   "outputs": [
    {
     "name": "stderr",
     "output_type": "stream",
     "text": [
      "[Stage 4:=====================================================>   (17 + 1) / 18]\r"
     ]
    },
    {
     "name": "stdout",
     "output_type": "stream",
     "text": [
      "+-----------+-------------+\n",
      "|category_id|category_code|\n",
      "+-----------+-------------+\n",
      "+-----------+-------------+\n",
      "\n"
     ]
    },
    {
     "name": "stderr",
     "output_type": "stream",
     "text": [
      "\r",
      "                                                                                \r"
     ]
    }
   ],
   "source": [
    "df.select(['category_id','category_code']).filter((df.category_id=='2103807459595387724') & (df.category_code != 'null')).show()"
   ]
  },
  {
   "cell_type": "code",
   "execution_count": 9,
   "id": "d3110509",
   "metadata": {},
   "outputs": [],
   "source": [
    "df.createOrReplaceTempView('ecommerce')"
   ]
  },
  {
   "cell_type": "code",
   "execution_count": 10,
   "id": "0c7f3363",
   "metadata": {},
   "outputs": [
    {
     "name": "stderr",
     "output_type": "stream",
     "text": [
      "[Stage 5:======================================================>  (41 + 2) / 43]\r"
     ]
    },
    {
     "name": "stdout",
     "output_type": "stream",
     "text": [
      "+----------+\n",
      "|event_type|\n",
      "+----------+\n",
      "|      cart|\n",
      "|  purchase|\n",
      "|      view|\n",
      "+----------+\n",
      "\n"
     ]
    },
    {
     "name": "stderr",
     "output_type": "stream",
     "text": [
      "\r",
      "[Stage 5:=======================================================> (42 + 1) / 43]\r",
      "\r",
      "                                                                                \r"
     ]
    }
   ],
   "source": [
    "distinct_event_types = spark.sql(\"SELECT DISTINCT event_type FROM ecommerce\")\n",
    "distinct_event_types.show()"
   ]
  },
  {
   "cell_type": "code",
   "execution_count": 11,
   "id": "2a4452ad",
   "metadata": {
    "scrolled": false
   },
   "outputs": [
    {
     "name": "stderr",
     "output_type": "stream",
     "text": [
      "23/09/01 08:53:06 WARN package: Truncated the string representation of a plan since it was too large. This behavior can be adjusted by setting 'spark.sql.debug.maxToStringFields'.\n",
      "[Stage 8:======================================================>  (41 + 2) / 43]\r"
     ]
    },
    {
     "name": "stdout",
     "output_type": "stream",
     "text": [
      "+-------+--------------------+--------------------+-------------------+-----------------+\n",
      "|summary|          product_id|         category_id|            user_id|            price|\n",
      "+-------+--------------------+--------------------+-------------------+-----------------+\n",
      "|  count|            42448764|            42448764|           42448764|         42448764|\n",
      "|   mean|1.0549932375842676E7|2.057404237936260...|5.335371475081686E8|290.3236606848809|\n",
      "| stddev|1.1881906970608136E7|1.843926466140411...|1.852373817465431E7|358.2691553394021|\n",
      "|    min|             1000978| 2053013552226107603|          183503497|             0.00|\n",
      "|    max|             9900461| 2175419595093967522|           64078358|           999.82|\n",
      "+-------+--------------------+--------------------+-------------------+-----------------+\n",
      "\n"
     ]
    },
    {
     "name": "stderr",
     "output_type": "stream",
     "text": [
      "\r",
      "                                                                                \r"
     ]
    }
   ],
   "source": [
    "df.describe(['product_id', 'category_id', 'user_id', 'price']).show()"
   ]
  },
  {
   "cell_type": "code",
   "execution_count": 12,
   "id": "78fa9ebb",
   "metadata": {
    "scrolled": true
   },
   "outputs": [
    {
     "name": "stderr",
     "output_type": "stream",
     "text": [
      "[Stage 11:=====================================================>  (41 + 2) / 43]\r"
     ]
    },
    {
     "name": "stdout",
     "output_type": "stream",
     "text": [
      "+----------+----------+----------+-----------+-------------+-------+-----+-------+------------+\n",
      "|event_time|event_type|product_id|category_id|category_code|  brand|price|user_id|user_session|\n",
      "+----------+----------+----------+-----------+-------------+-------+-----+-------+------------+\n",
      "|         0|         0|         0|          0|     13515609|6113008|    0|      0|           2|\n",
      "+----------+----------+----------+-----------+-------------+-------+-----+-------+------------+\n",
      "\n"
     ]
    },
    {
     "name": "stderr",
     "output_type": "stream",
     "text": [
      "\r",
      "                                                                                \r"
     ]
    }
   ],
   "source": [
    "#null values\n",
    "df.select([count(when(isnull(c), c)).alias(c) for c in df.columns]).show()"
   ]
  },
  {
   "cell_type": "code",
   "execution_count": 13,
   "id": "4b98a41f",
   "metadata": {},
   "outputs": [
    {
     "name": "stderr",
     "output_type": "stream",
     "text": [
      "[Stage 14:=====================================================>  (41 + 2) / 43]\r"
     ]
    },
    {
     "name": "stdout",
     "output_type": "stream",
     "text": [
      "+---------------------------+\n",
      "|count(DISTINCT category_id)|\n",
      "+---------------------------+\n",
      "|                        624|\n",
      "+---------------------------+\n",
      "\n"
     ]
    },
    {
     "name": "stderr",
     "output_type": "stream",
     "text": [
      "\r",
      "                                                                                \r"
     ]
    }
   ],
   "source": [
    "df.select(countDistinct(\"category_id\")).show()"
   ]
  },
  {
   "cell_type": "code",
   "execution_count": 14,
   "id": "910c24cf",
   "metadata": {},
   "outputs": [
    {
     "name": "stderr",
     "output_type": "stream",
     "text": [
      "[Stage 20:======================================================> (42 + 1) / 43]\r"
     ]
    },
    {
     "name": "stdout",
     "output_type": "stream",
     "text": [
      "+--------------------+\n",
      "|count(category_code)|\n",
      "+--------------------+\n",
      "|                 252|\n",
      "+--------------------+\n",
      "\n"
     ]
    },
    {
     "name": "stderr",
     "output_type": "stream",
     "text": [
      "\r",
      "                                                                                \r"
     ]
    }
   ],
   "source": [
    "df.drop_duplicates(subset=['category_id']) .select(count(\"category_code\")).show()"
   ]
  },
  {
   "cell_type": "code",
   "execution_count": 15,
   "id": "f6f348c9",
   "metadata": {},
   "outputs": [
    {
     "name": "stderr",
     "output_type": "stream",
     "text": [
      "[Stage 26:=====================================================>  (41 + 2) / 43]\r"
     ]
    },
    {
     "name": "stdout",
     "output_type": "stream",
     "text": [
      "+-----------------------------+\n",
      "|count(DISTINCT category_code)|\n",
      "+-----------------------------+\n",
      "|                          126|\n",
      "+-----------------------------+\n",
      "\n"
     ]
    },
    {
     "name": "stderr",
     "output_type": "stream",
     "text": [
      "\r",
      "                                                                                \r"
     ]
    }
   ],
   "source": [
    "df.select(countDistinct(\"category_code\")).show()"
   ]
  },
  {
   "cell_type": "code",
   "execution_count": 16,
   "id": "ff03f629",
   "metadata": {},
   "outputs": [
    {
     "name": "stderr",
     "output_type": "stream",
     "text": [
      "[Stage 32:=====================================================>  (41 + 2) / 43]\r"
     ]
    },
    {
     "name": "stdout",
     "output_type": "stream",
     "text": [
      "+-----------------------+\n",
      "|count(DISTINCT user_id)|\n",
      "+-----------------------+\n",
      "|                3022290|\n",
      "+-----------------------+\n",
      "\n"
     ]
    },
    {
     "name": "stderr",
     "output_type": "stream",
     "text": [
      "\r",
      "                                                                                \r"
     ]
    }
   ],
   "source": [
    "df.select(countDistinct(\"user_id\")).show()"
   ]
  },
  {
   "cell_type": "code",
   "execution_count": 17,
   "id": "d26a3070",
   "metadata": {},
   "outputs": [
    {
     "name": "stderr",
     "output_type": "stream",
     "text": [
      "[Stage 38:=====================================================>  (41 + 2) / 43]\r"
     ]
    },
    {
     "name": "stdout",
     "output_type": "stream",
     "text": [
      "+----------------------------+\n",
      "|count(DISTINCT user_session)|\n",
      "+----------------------------+\n",
      "|                     9244421|\n",
      "+----------------------------+\n",
      "\n"
     ]
    },
    {
     "name": "stderr",
     "output_type": "stream",
     "text": [
      "\r",
      "                                                                                \r"
     ]
    }
   ],
   "source": [
    "df.select(countDistinct(\"user_session\")).show()"
   ]
  },
  {
   "cell_type": "code",
   "execution_count": 18,
   "id": "bc1039a3",
   "metadata": {},
   "outputs": [
    {
     "name": "stderr",
     "output_type": "stream",
     "text": [
      "                                                                                \r"
     ]
    },
    {
     "data": {
      "text/plain": [
       "<Axes: xlabel='date'>"
      ]
     },
     "execution_count": 18,
     "metadata": {},
     "output_type": "execute_result"
    },
    {
     "data": {
      "image/png": "[encoded data removed]",
      "text/plain": [
       "<Figure size 800x400 with 1 Axes>"
      ]
     },
     "metadata": {},
     "output_type": "display_data"
    }
   ],
   "source": [
    "# Plot the daily number of sessions\n",
    "\n",
    "df = df.withColumn('event_time', to_timestamp('event_time'))\n",
    "df = df.withColumn('date', date_format(\"event_time\", \"yyyy-MM-dd\"))\n",
    "\n",
    "sessions = df.groupby('date').agg(countDistinct('user_session')).toPandas()\n",
    "sessions.sort_values('date').plot(x='date', figsize=(8, 4))"
   ]
  },
  {
   "cell_type": "code",
   "execution_count": 19,
   "id": "6eda55f2",
   "metadata": {},
   "outputs": [
    {
     "name": "stderr",
     "output_type": "stream",
     "text": [
      "[Stage 50:=====================================================>  (41 + 2) / 43]\r"
     ]
    },
    {
     "name": "stdout",
     "output_type": "stream",
     "text": [
      "+----------+--------+\n",
      "|event_type|   count|\n",
      "+----------+--------+\n",
      "|      cart|  926516|\n",
      "|  purchase|  742849|\n",
      "|      view|40779399|\n",
      "+----------+--------+\n",
      "\n"
     ]
    },
    {
     "name": "stderr",
     "output_type": "stream",
     "text": [
      "\r",
      "                                                                                \r"
     ]
    }
   ],
   "source": [
    "df.groupBy('event_type').count().show()"
   ]
  },
  {
   "cell_type": "code",
   "execution_count": 20,
   "id": "2416ef74",
   "metadata": {},
   "outputs": [
    {
     "name": "stderr",
     "output_type": "stream",
     "text": [
      "                                                                                \r"
     ]
    },
    {
     "data": {
      "text/plain": [
       "<Axes: ylabel='count'>"
      ]
     },
     "execution_count": 20,
     "metadata": {},
     "output_type": "execute_result"
    },
    {
     "data": {
      "image/png": "[encoded data removed]",
      "text/plain": [
       "<Figure size 500x500 with 1 Axes>"
      ]
     },
     "metadata": {},
     "output_type": "display_data"
    }
   ],
   "source": [
    "# Plot events distribution\n",
    "\n",
    "events = df.groupBy('event_type').count().toPandas()\n",
    "events.plot(kind='pie', y='count', labels=events['event_type'], autopct='%1.2f%%', figsize=(5, 5))\n"
   ]
  },
  {
   "cell_type": "code",
   "execution_count": 21,
   "id": "77a977cb",
   "metadata": {
    "scrolled": false
   },
   "outputs": [
    {
     "name": "stderr",
     "output_type": "stream",
     "text": [
      "[Stage 58:===================================>                    (10 + 6) / 16]\r"
     ]
    },
    {
     "name": "stdout",
     "output_type": "stream",
     "text": [
      "+---------+----------+-----+-----+---------+\n",
      "|  user_id|product_id|views|carts|purchases|\n",
      "+---------+----------+-----+-----+---------+\n",
      "|517728689|   1004835|  141|  236|       80|\n",
      "|538557901|   1004856|    6|  219|        1|\n",
      "|523974502|   5100563|  311|  216|      248|\n",
      "|517728689|   1004766|  125|  175|       64|\n",
      "|541510103|   1004833|  190|  130|      114|\n",
      "|534769147|   1201247|    8|  118|        1|\n",
      "|514110288|   5100816|   10|  117|        1|\n",
      "|513032906|   3601195|    7|  114|     null|\n",
      "|563571758|   4804295|    1|  113|     null|\n",
      "|552601624|   1004833|    6|  111|        1|\n",
      "|520248949|   1005115|    7|  109|        1|\n",
      "|563771358|   1004833|    6|  108|     null|\n",
      "|519267944|   1005140|  147|  105|      106|\n",
      "|548471261|   3601290|    2|  102|        1|\n",
      "|548760065|   1002547|    7|   97|     null|\n",
      "|518728454|   2701303|   53|   96|        2|\n",
      "|535658024|   1002544|  161|   91|       88|\n",
      "|555130288|   1004665|    2|   90|     null|\n",
      "|524903918|   2601934|    7|   89|        1|\n",
      "|549524970|   9400066|    9|   83|        1|\n",
      "+---------+----------+-----+-----+---------+\n",
      "only showing top 20 rows\n",
      "\n"
     ]
    },
    {
     "name": "stderr",
     "output_type": "stream",
     "text": [
      "\r",
      "[Stage 58:======================================>                 (11 + 5) / 16]\r",
      "\r",
      "                                                                                \r"
     ]
    }
   ],
   "source": [
    "# Print the number of interactions between users and products, sorted by carts\n",
    "\n",
    "interactions = df.groupby(['user_id', 'product_id']).agg(sum(when(df['event_type'] == 'view', 1)).alias('views'),\n",
    "                                                         sum(when(df['event_type'] == 'cart', 1)).alias('carts'),\n",
    "                                                         sum(when(df['event_type'] == 'purchase', 1)).alias('purchases'))\n",
    "\n",
    "interactions.sort('carts', ascending=False).show()"
   ]
  },
  {
   "cell_type": "code",
   "execution_count": 22,
   "id": "dad2f746",
   "metadata": {},
   "outputs": [
    {
     "name": "stdout",
     "output_type": "stream",
     "text": [
      "+----------+\n",
      "|      date|\n",
      "+----------+\n",
      "|2019-10-01|\n",
      "|2019-10-01|\n",
      "|2019-10-01|\n",
      "|2019-10-01|\n",
      "|2019-10-01|\n",
      "|2019-10-01|\n",
      "|2019-10-01|\n",
      "|2019-10-01|\n",
      "|2019-10-01|\n",
      "|2019-10-01|\n",
      "|2019-10-01|\n",
      "|2019-10-01|\n",
      "|2019-10-01|\n",
      "|2019-10-01|\n",
      "|2019-10-01|\n",
      "|2019-10-01|\n",
      "|2019-10-01|\n",
      "|2019-10-01|\n",
      "|2019-10-01|\n",
      "|2019-10-01|\n",
      "+----------+\n",
      "only showing top 20 rows\n",
      "\n"
     ]
    }
   ],
   "source": [
    "df.select('date').show()"
   ]
  },
  {
   "cell_type": "code",
   "execution_count": 23,
   "id": "f27e6051",
   "metadata": {},
   "outputs": [],
   "source": [
    "# data = [(\"user1\", \"productA\"), (\"user2\", \"productB\"), (\"user1\", \"productB\"), (\"user3\", \"productB\")]\n",
    "# columns = [\"user_id\", \"product_id\"]\n",
    "# df_test = spark.createDataFrame(data, columns)"
   ]
  },
  {
   "cell_type": "code",
   "execution_count": 24,
   "id": "08e3d5a6",
   "metadata": {},
   "outputs": [],
   "source": [
    "# df_test.show()"
   ]
  },
  {
   "cell_type": "code",
   "execution_count": 25,
   "id": "0b386951",
   "metadata": {},
   "outputs": [],
   "source": [
    "df_new = df.select(['user_id', 'product_id'])"
   ]
  },
  {
   "cell_type": "code",
   "execution_count": 26,
   "id": "9a359561",
   "metadata": {},
   "outputs": [
    {
     "name": "stdout",
     "output_type": "stream",
     "text": [
      "+---------+----------+\n",
      "|  user_id|product_id|\n",
      "+---------+----------+\n",
      "|541312140|  44600062|\n",
      "|554748717|   3900821|\n",
      "|519107250|  17200506|\n",
      "|550050854|   1307067|\n",
      "|535871217|   1004237|\n",
      "|512742880|   1480613|\n",
      "|555447699|  17300353|\n",
      "|550978835|  31500053|\n",
      "|520571932|  28719074|\n",
      "|537918940|   1004545|\n",
      "|555158050|   2900536|\n",
      "|530282093|   1005011|\n",
      "|555444559|   3900746|\n",
      "|541312140|  44600062|\n",
      "|555446365|  13500240|\n",
      "|513642368|  23100006|\n",
      "|537192226|   1801995|\n",
      "|519528062|  10900029|\n",
      "|550050854|   1306631|\n",
      "|535871217|   1005135|\n",
      "+---------+----------+\n",
      "only showing top 20 rows\n",
      "\n"
     ]
    }
   ],
   "source": [
    "df_new.show()"
   ]
  },
  {
   "cell_type": "code",
   "execution_count": 27,
   "id": "4adc53f9",
   "metadata": {
    "scrolled": true
   },
   "outputs": [
    {
     "name": "stderr",
     "output_type": "stream",
     "text": [
      "23/09/01 08:55:32 ERROR Executor: Exception in task 0.0 in stage 63.0 (TID 669)]\n",
      "org.apache.spark.SparkException: Kryo serialization failed: Buffer overflow. Available: 0, required: 111\n",
      "Serialization trace:\n",
      "_values$mcJ$sp (org.apache.spark.util.collection.OpenHashMap$mcJ$sp). To avoid this, increase spark.kryoserializer.buffer.max value.\n",
      "\tat org.apache.spark.serializer.KryoSerializerInstance.serialize(KryoSerializer.scala:396)\n",
      "\tat org.apache.spark.sql.catalyst.expressions.GeneratedClass$SpecificUnsafeProjection.apply(Unknown Source)\n",
      "\tat org.apache.spark.sql.execution.aggregate.ComplexTypedAggregateExpression.eval(TypedAggregateExpression.scala:260)\n",
      "\tat org.apache.spark.sql.catalyst.expressions.aggregate.TypedImperativeAggregate.eval(interfaces.scala:597)\n",
      "\tat org.apache.spark.sql.execution.aggregate.AggregationIterator.$anonfun$generateResultProjection$5(AggregationIterator.scala:257)\n",
      "\tat org.apache.spark.sql.execution.aggregate.ObjectAggregationIterator.next(ObjectAggregationIterator.scala:96)\n",
      "\tat org.apache.spark.sql.execution.aggregate.ObjectAggregationIterator.next(ObjectAggregationIterator.scala:32)\n",
      "\tat org.apache.spark.sql.execution.SparkPlan.$anonfun$getByteArrayRdd$1(SparkPlan.scala:389)\n",
      "\tat org.apache.spark.rdd.RDD.$anonfun$mapPartitionsInternal$2(RDD.scala:888)\n",
      "\tat org.apache.spark.rdd.RDD.$anonfun$mapPartitionsInternal$2$adapted(RDD.scala:888)\n",
      "\tat org.apache.spark.rdd.MapPartitionsRDD.compute(MapPartitionsRDD.scala:52)\n",
      "\tat org.apache.spark.rdd.RDD.computeOrReadCheckpoint(RDD.scala:364)\n",
      "\tat org.apache.spark.rdd.RDD.iterator(RDD.scala:328)\n",
      "\tat org.apache.spark.scheduler.ResultTask.runTask(ResultTask.scala:92)\n",
      "\tat org.apache.spark.TaskContext.runTaskWithListeners(TaskContext.scala:161)\n",
      "\tat org.apache.spark.scheduler.Task.run(Task.scala:139)\n",
      "\tat org.apache.spark.executor.Executor$TaskRunner.$anonfun$run$3(Executor.scala:554)\n",
      "\tat org.apache.spark.util.Utils$.tryWithSafeFinally(Utils.scala:1529)\n",
      "\tat org.apache.spark.executor.Executor$TaskRunner.run(Executor.scala:557)\n",
      "\tat java.base/java.util.concurrent.ThreadPoolExecutor.runWorker(ThreadPoolExecutor.java:1128)\n",
      "\tat java.base/java.util.concurrent.ThreadPoolExecutor$Worker.run(ThreadPoolExecutor.java:628)\n",
      "\tat java.base/java.lang.Thread.run(Thread.java:829)\n",
      "Caused by: com.esotericsoftware.kryo.KryoException: Buffer overflow. Available: 0, required: 111\n",
      "Serialization trace:\n",
      "_values$mcJ$sp (org.apache.spark.util.collection.OpenHashMap$mcJ$sp)\n",
      "\tat com.esotericsoftware.kryo.io.Output.require(Output.java:167)\n",
      "\tat com.esotericsoftware.kryo.io.UnsafeOutput.writeBytes(UnsafeOutput.java:384)\n",
      "\tat com.esotericsoftware.kryo.io.UnsafeOutput.writeLongs(UnsafeOutput.java:331)\n",
      "\tat com.esotericsoftware.kryo.serializers.DefaultArraySerializers$LongArraySerializer.write(DefaultArraySerializers.java:130)\n",
      "\tat com.esotericsoftware.kryo.serializers.DefaultArraySerializers$LongArraySerializer.write(DefaultArraySerializers.java:119)\n",
      "\tat com.esotericsoftware.kryo.Kryo.writeObjectOrNull(Kryo.java:629)\n",
      "\tat com.esotericsoftware.kryo.serializers.ObjectField.write(ObjectField.java:86)\n",
      "\tat com.esotericsoftware.kryo.serializers.FieldSerializer.write(FieldSerializer.java:508)\n",
      "\tat com.esotericsoftware.kryo.Kryo.writeClassAndObject(Kryo.java:651)\n",
      "\tat com.esotericsoftware.kryo.serializers.DefaultArraySerializers$ObjectArraySerializer.write(DefaultArraySerializers.java:361)\n",
      "\tat com.esotericsoftware.kryo.serializers.DefaultArraySerializers$ObjectArraySerializer.write(DefaultArraySerializers.java:302)\n",
      "\tat com.esotericsoftware.kryo.Kryo.writeClassAndObject(Kryo.java:651)\n",
      "\tat org.apache.spark.serializer.KryoSerializerInstance.serialize(KryoSerializer.scala:392)\n",
      "\t... 21 more\n",
      "23/09/01 08:55:32 WARN TaskSetManager: Lost task 0.0 in stage 63.0 (TID 669) (172.21.0.231 executor driver): org.apache.spark.SparkException: Kryo serialization failed: Buffer overflow. Available: 0, required: 111\n",
      "Serialization trace:\n",
      "_values$mcJ$sp (org.apache.spark.util.collection.OpenHashMap$mcJ$sp). To avoid this, increase spark.kryoserializer.buffer.max value.\n",
      "\tat org.apache.spark.serializer.KryoSerializerInstance.serialize(KryoSerializer.scala:396)\n",
      "\tat org.apache.spark.sql.catalyst.expressions.GeneratedClass$SpecificUnsafeProjection.apply(Unknown Source)\n",
      "\tat org.apache.spark.sql.execution.aggregate.ComplexTypedAggregateExpression.eval(TypedAggregateExpression.scala:260)\n",
      "\tat org.apache.spark.sql.catalyst.expressions.aggregate.TypedImperativeAggregate.eval(interfaces.scala:597)\n",
      "\tat org.apache.spark.sql.execution.aggregate.AggregationIterator.$anonfun$generateResultProjection$5(AggregationIterator.scala:257)\n",
      "\tat org.apache.spark.sql.execution.aggregate.ObjectAggregationIterator.next(ObjectAggregationIterator.scala:96)\n",
      "\tat org.apache.spark.sql.execution.aggregate.ObjectAggregationIterator.next(ObjectAggregationIterator.scala:32)\n",
      "\tat org.apache.spark.sql.execution.SparkPlan.$anonfun$getByteArrayRdd$1(SparkPlan.scala:389)\n",
      "\tat org.apache.spark.rdd.RDD.$anonfun$mapPartitionsInternal$2(RDD.scala:888)\n",
      "\tat org.apache.spark.rdd.RDD.$anonfun$mapPartitionsInternal$2$adapted(RDD.scala:888)\n",
      "\tat org.apache.spark.rdd.MapPartitionsRDD.compute(MapPartitionsRDD.scala:52)\n",
      "\tat org.apache.spark.rdd.RDD.computeOrReadCheckpoint(RDD.scala:364)\n",
      "\tat org.apache.spark.rdd.RDD.iterator(RDD.scala:328)\n",
      "\tat org.apache.spark.scheduler.ResultTask.runTask(ResultTask.scala:92)\n",
      "\tat org.apache.spark.TaskContext.runTaskWithListeners(TaskContext.scala:161)\n",
      "\tat org.apache.spark.scheduler.Task.run(Task.scala:139)\n",
      "\tat org.apache.spark.executor.Executor$TaskRunner.$anonfun$run$3(Executor.scala:554)\n",
      "\tat org.apache.spark.util.Utils$.tryWithSafeFinally(Utils.scala:1529)\n",
      "\tat org.apache.spark.executor.Executor$TaskRunner.run(Executor.scala:557)\n",
      "\tat java.base/java.util.concurrent.ThreadPoolExecutor.runWorker(ThreadPoolExecutor.java:1128)\n",
      "\tat java.base/java.util.concurrent.ThreadPoolExecutor$Worker.run(ThreadPoolExecutor.java:628)\n",
      "\tat java.base/java.lang.Thread.run(Thread.java:829)\n",
      "Caused by: com.esotericsoftware.kryo.KryoException: Buffer overflow. Available: 0, required: 111\n",
      "Serialization trace:\n",
      "_values$mcJ$sp (org.apache.spark.util.collection.OpenHashMap$mcJ$sp)\n",
      "\tat com.esotericsoftware.kryo.io.Output.require(Output.java:167)\n",
      "\tat com.esotericsoftware.kryo.io.UnsafeOutput.writeBytes(UnsafeOutput.java:384)\n",
      "\tat com.esotericsoftware.kryo.io.UnsafeOutput.writeLongs(UnsafeOutput.java:331)\n",
      "\tat com.esotericsoftware.kryo.serializers.DefaultArraySerializers$LongArraySerializer.write(DefaultArraySerializers.java:130)\n",
      "\tat com.esotericsoftware.kryo.serializers.DefaultArraySerializers$LongArraySerializer.write(DefaultArraySerializers.java:119)\n",
      "\tat com.esotericsoftware.kryo.Kryo.writeObjectOrNull(Kryo.java:629)\n",
      "\tat com.esotericsoftware.kryo.serializers.ObjectField.write(ObjectField.java:86)\n",
      "\tat com.esotericsoftware.kryo.serializers.FieldSerializer.write(FieldSerializer.java:508)\n",
      "\tat com.esotericsoftware.kryo.Kryo.writeClassAndObject(Kryo.java:651)\n",
      "\tat com.esotericsoftware.kryo.serializers.DefaultArraySerializers$ObjectArraySerializer.write(DefaultArraySerializers.java:361)\n",
      "\tat com.esotericsoftware.kryo.serializers.DefaultArraySerializers$ObjectArraySerializer.write(DefaultArraySerializers.java:302)\n",
      "\tat com.esotericsoftware.kryo.Kryo.writeClassAndObject(Kryo.java:651)\n",
      "\tat org.apache.spark.serializer.KryoSerializerInstance.serialize(KryoSerializer.scala:392)\n",
      "\t... 21 more\n",
      "\n",
      "23/09/01 08:55:32 ERROR TaskSetManager: Task 0 in stage 63.0 failed 1 times; aborting job\n"
     ]
    },
    {
     "ename": "Py4JJavaError",
     "evalue": "An error occurred while calling o227.fit.\n: org.apache.spark.SparkException: Job aborted due to stage failure: Task 0 in stage 63.0 failed 1 times, most recent failure: Lost task 0.0 in stage 63.0 (TID 669) (172.21.0.231 executor driver): org.apache.spark.SparkException: Kryo serialization failed: Buffer overflow. Available: 0, required: 111\nSerialization trace:\n_values$mcJ$sp (org.apache.spark.util.collection.OpenHashMap$mcJ$sp). To avoid this, increase spark.kryoserializer.buffer.max value.\n\tat org.apache.spark.serializer.KryoSerializerInstance.serialize(KryoSerializer.scala:396)\n\tat org.apache.spark.sql.catalyst.expressions.GeneratedClass$SpecificUnsafeProjection.apply(Unknown Source)\n\tat org.apache.spark.sql.execution.aggregate.ComplexTypedAggregateExpression.eval(TypedAggregateExpression.scala:260)\n\tat org.apache.spark.sql.catalyst.expressions.aggregate.TypedImperativeAggregate.eval(interfaces.scala:597)\n\tat org.apache.spark.sql.execution.aggregate.AggregationIterator.$anonfun$generateResultProjection$5(AggregationIterator.scala:257)\n\tat org.apache.spark.sql.execution.aggregate.ObjectAggregationIterator.next(ObjectAggregationIterator.scala:96)\n\tat org.apache.spark.sql.execution.aggregate.ObjectAggregationIterator.next(ObjectAggregationIterator.scala:32)\n\tat org.apache.spark.sql.execution.SparkPlan.$anonfun$getByteArrayRdd$1(SparkPlan.scala:389)\n\tat org.apache.spark.rdd.RDD.$anonfun$mapPartitionsInternal$2(RDD.scala:888)\n\tat org.apache.spark.rdd.RDD.$anonfun$mapPartitionsInternal$2$adapted(RDD.scala:888)\n\tat org.apache.spark.rdd.MapPartitionsRDD.compute(MapPartitionsRDD.scala:52)\n\tat org.apache.spark.rdd.RDD.computeOrReadCheckpoint(RDD.scala:364)\n\tat org.apache.spark.rdd.RDD.iterator(RDD.scala:328)\n\tat org.apache.spark.scheduler.ResultTask.runTask(ResultTask.scala:92)\n\tat org.apache.spark.TaskContext.runTaskWithListeners(TaskContext.scala:161)\n\tat org.apache.spark.scheduler.Task.run(Task.scala:139)\n\tat org.apache.spark.executor.Executor$TaskRunner.$anonfun$run$3(Executor.scala:554)\n\tat org.apache.spark.util.Utils$.tryWithSafeFinally(Utils.scala:1529)\n\tat org.apache.spark.executor.Executor$TaskRunner.run(Executor.scala:557)\n\tat java.base/java.util.concurrent.ThreadPoolExecutor.runWorker(ThreadPoolExecutor.java:1128)\n\tat java.base/java.util.concurrent.ThreadPoolExecutor$Worker.run(ThreadPoolExecutor.java:628)\n\tat java.base/java.lang.Thread.run(Thread.java:829)\nCaused by: com.esotericsoftware.kryo.KryoException: Buffer overflow. Available: 0, required: 111\nSerialization trace:\n_values$mcJ$sp (org.apache.spark.util.collection.OpenHashMap$mcJ$sp)\n\tat com.esotericsoftware.kryo.io.Output.require(Output.java:167)\n\tat com.esotericsoftware.kryo.io.UnsafeOutput.writeBytes(UnsafeOutput.java:384)\n\tat com.esotericsoftware.kryo.io.UnsafeOutput.writeLongs(UnsafeOutput.java:331)\n\tat com.esotericsoftware.kryo.serializers.DefaultArraySerializers$LongArraySerializer.write(DefaultArraySerializers.java:130)\n\tat com.esotericsoftware.kryo.serializers.DefaultArraySerializers$LongArraySerializer.write(DefaultArraySerializers.java:119)\n\tat com.esotericsoftware.kryo.Kryo.writeObjectOrNull(Kryo.java:629)\n\tat com.esotericsoftware.kryo.serializers.ObjectField.write(ObjectField.java:86)\n\tat com.esotericsoftware.kryo.serializers.FieldSerializer.write(FieldSerializer.java:508)\n\tat com.esotericsoftware.kryo.Kryo.writeClassAndObject(Kryo.java:651)\n\tat com.esotericsoftware.kryo.serializers.DefaultArraySerializers$ObjectArraySerializer.write(DefaultArraySerializers.java:361)\n\tat com.esotericsoftware.kryo.serializers.DefaultArraySerializers$ObjectArraySerializer.write(DefaultArraySerializers.java:302)\n\tat com.esotericsoftware.kryo.Kryo.writeClassAndObject(Kryo.java:651)\n\tat org.apache.spark.serializer.KryoSerializerInstance.serialize(KryoSerializer.scala:392)\n\t... 21 more\n\nDriver stacktrace:\n\tat org.apache.spark.scheduler.DAGScheduler.failJobAndIndependentStages(DAGScheduler.scala:2785)\n\tat org.apache.spark.scheduler.DAGScheduler.$anonfun$abortStage$2(DAGScheduler.scala:2721)\n\tat org.apache.spark.scheduler.DAGScheduler.$anonfun$abortStage$2$adapted(DAGScheduler.scala:2720)\n\tat scala.collection.mutable.ResizableArray.foreach(ResizableArray.scala:62)\n\tat scala.collection.mutable.ResizableArray.foreach$(ResizableArray.scala:55)\n\tat scala.collection.mutable.ArrayBuffer.foreach(ArrayBuffer.scala:49)\n\tat org.apache.spark.scheduler.DAGScheduler.abortStage(DAGScheduler.scala:2720)\n\tat org.apache.spark.scheduler.DAGScheduler.$anonfun$handleTaskSetFailed$1(DAGScheduler.scala:1206)\n\tat org.apache.spark.scheduler.DAGScheduler.$anonfun$handleTaskSetFailed$1$adapted(DAGScheduler.scala:1206)\n\tat scala.Option.foreach(Option.scala:407)\n\tat org.apache.spark.scheduler.DAGScheduler.handleTaskSetFailed(DAGScheduler.scala:1206)\n\tat org.apache.spark.scheduler.DAGSchedulerEventProcessLoop.doOnReceive(DAGScheduler.scala:2984)\n\tat org.apache.spark.scheduler.DAGSchedulerEventProcessLoop.onReceive(DAGScheduler.scala:2923)\n\tat org.apache.spark.scheduler.DAGSchedulerEventProcessLoop.onReceive(DAGScheduler.scala:2912)\n\tat org.apache.spark.util.EventLoop$$anon$1.run(EventLoop.scala:49)\n\tat org.apache.spark.scheduler.DAGScheduler.runJob(DAGScheduler.scala:971)\n\tat org.apache.spark.SparkContext.runJob(SparkContext.scala:2263)\n\tat org.apache.spark.SparkContext.runJob(SparkContext.scala:2284)\n\tat org.apache.spark.SparkContext.runJob(SparkContext.scala:2303)\n\tat org.apache.spark.SparkContext.runJob(SparkContext.scala:2328)\n\tat org.apache.spark.rdd.RDD.$anonfun$collect$1(RDD.scala:1019)\n\tat org.apache.spark.rdd.RDDOperationScope$.withScope(RDDOperationScope.scala:151)\n\tat org.apache.spark.rdd.RDDOperationScope$.withScope(RDDOperationScope.scala:112)\n\tat org.apache.spark.rdd.RDD.withScope(RDD.scala:405)\n\tat org.apache.spark.rdd.RDD.collect(RDD.scala:1018)\n\tat org.apache.spark.sql.execution.SparkPlan.executeCollect(SparkPlan.scala:448)\n\tat org.apache.spark.sql.execution.adaptive.AdaptiveSparkPlanExec.$anonfun$executeCollect$1(AdaptiveSparkPlanExec.scala:354)\n\tat org.apache.spark.sql.execution.adaptive.AdaptiveSparkPlanExec.withFinalPlanUpdate(AdaptiveSparkPlanExec.scala:382)\n\tat org.apache.spark.sql.execution.adaptive.AdaptiveSparkPlanExec.executeCollect(AdaptiveSparkPlanExec.scala:354)\n\tat org.apache.spark.sql.Dataset.collectFromPlan(Dataset.scala:4177)\n\tat org.apache.spark.sql.Dataset.$anonfun$collect$1(Dataset.scala:3418)\n\tat org.apache.spark.sql.Dataset.$anonfun$withAction$2(Dataset.scala:4167)\n\tat org.apache.spark.sql.execution.QueryExecution$.withInternalError(QueryExecution.scala:526)\n\tat org.apache.spark.sql.Dataset.$anonfun$withAction$1(Dataset.scala:4165)\n\tat org.apache.spark.sql.execution.SQLExecution$.$anonfun$withNewExecutionId$6(SQLExecution.scala:118)\n\tat org.apache.spark.sql.execution.SQLExecution$.withSQLConfPropagated(SQLExecution.scala:195)\n\tat org.apache.spark.sql.execution.SQLExecution$.$anonfun$withNewExecutionId$1(SQLExecution.scala:103)\n\tat org.apache.spark.sql.SparkSession.withActive(SparkSession.scala:827)\n\tat org.apache.spark.sql.execution.SQLExecution$.withNewExecutionId(SQLExecution.scala:65)\n\tat org.apache.spark.sql.Dataset.withAction(Dataset.scala:4165)\n\tat org.apache.spark.sql.Dataset.collect(Dataset.scala:3418)\n\tat org.apache.spark.ml.feature.StringIndexer.countByValue(StringIndexer.scala:204)\n\tat org.apache.spark.ml.feature.StringIndexer.sortByFreq(StringIndexer.scala:212)\n\tat org.apache.spark.ml.feature.StringIndexer.fit(StringIndexer.scala:242)\n\tat java.base/jdk.internal.reflect.NativeMethodAccessorImpl.invoke0(Native Method)\n\tat java.base/jdk.internal.reflect.NativeMethodAccessorImpl.invoke(NativeMethodAccessorImpl.java:62)\n\tat java.base/jdk.internal.reflect.DelegatingMethodAccessorImpl.invoke(DelegatingMethodAccessorImpl.java:43)\n\tat java.base/java.lang.reflect.Method.invoke(Method.java:566)\n\tat py4j.reflection.MethodInvoker.invoke(MethodInvoker.java:244)\n\tat py4j.reflection.ReflectionEngine.invoke(ReflectionEngine.java:374)\n\tat py4j.Gateway.invoke(Gateway.java:282)\n\tat py4j.commands.AbstractCommand.invokeMethod(AbstractCommand.java:132)\n\tat py4j.commands.CallCommand.execute(CallCommand.java:79)\n\tat py4j.ClientServerConnection.waitForCommands(ClientServerConnection.java:182)\n\tat py4j.ClientServerConnection.run(ClientServerConnection.java:106)\n\tat java.base/java.lang.Thread.run(Thread.java:829)\nCaused by: org.apache.spark.SparkException: Kryo serialization failed: Buffer overflow. Available: 0, required: 111\nSerialization trace:\n_values$mcJ$sp (org.apache.spark.util.collection.OpenHashMap$mcJ$sp). To avoid this, increase spark.kryoserializer.buffer.max value.\n\tat org.apache.spark.serializer.KryoSerializerInstance.serialize(KryoSerializer.scala:396)\n\tat org.apache.spark.sql.catalyst.expressions.GeneratedClass$SpecificUnsafeProjection.apply(Unknown Source)\n\tat org.apache.spark.sql.execution.aggregate.ComplexTypedAggregateExpression.eval(TypedAggregateExpression.scala:260)\n\tat org.apache.spark.sql.catalyst.expressions.aggregate.TypedImperativeAggregate.eval(interfaces.scala:597)\n\tat org.apache.spark.sql.execution.aggregate.AggregationIterator.$anonfun$generateResultProjection$5(AggregationIterator.scala:257)\n\tat org.apache.spark.sql.execution.aggregate.ObjectAggregationIterator.next(ObjectAggregationIterator.scala:96)\n\tat org.apache.spark.sql.execution.aggregate.ObjectAggregationIterator.next(ObjectAggregationIterator.scala:32)\n\tat org.apache.spark.sql.execution.SparkPlan.$anonfun$getByteArrayRdd$1(SparkPlan.scala:389)\n\tat org.apache.spark.rdd.RDD.$anonfun$mapPartitionsInternal$2(RDD.scala:888)\n\tat org.apache.spark.rdd.RDD.$anonfun$mapPartitionsInternal$2$adapted(RDD.scala:888)\n\tat org.apache.spark.rdd.MapPartitionsRDD.compute(MapPartitionsRDD.scala:52)\n\tat org.apache.spark.rdd.RDD.computeOrReadCheckpoint(RDD.scala:364)\n\tat org.apache.spark.rdd.RDD.iterator(RDD.scala:328)\n\tat org.apache.spark.scheduler.ResultTask.runTask(ResultTask.scala:92)\n\tat org.apache.spark.TaskContext.runTaskWithListeners(TaskContext.scala:161)\n\tat org.apache.spark.scheduler.Task.run(Task.scala:139)\n\tat org.apache.spark.executor.Executor$TaskRunner.$anonfun$run$3(Executor.scala:554)\n\tat org.apache.spark.util.Utils$.tryWithSafeFinally(Utils.scala:1529)\n\tat org.apache.spark.executor.Executor$TaskRunner.run(Executor.scala:557)\n\tat java.base/java.util.concurrent.ThreadPoolExecutor.runWorker(ThreadPoolExecutor.java:1128)\n\tat java.base/java.util.concurrent.ThreadPoolExecutor$Worker.run(ThreadPoolExecutor.java:628)\n\t... 1 more\nCaused by: com.esotericsoftware.kryo.KryoException: Buffer overflow. Available: 0, required: 111\nSerialization trace:\n_values$mcJ$sp (org.apache.spark.util.collection.OpenHashMap$mcJ$sp)\n\tat com.esotericsoftware.kryo.io.Output.require(Output.java:167)\n\tat com.esotericsoftware.kryo.io.UnsafeOutput.writeBytes(UnsafeOutput.java:384)\n\tat com.esotericsoftware.kryo.io.UnsafeOutput.writeLongs(UnsafeOutput.java:331)\n\tat com.esotericsoftware.kryo.serializers.DefaultArraySerializers$LongArraySerializer.write(DefaultArraySerializers.java:130)\n\tat com.esotericsoftware.kryo.serializers.DefaultArraySerializers$LongArraySerializer.write(DefaultArraySerializers.java:119)\n\tat com.esotericsoftware.kryo.Kryo.writeObjectOrNull(Kryo.java:629)\n\tat com.esotericsoftware.kryo.serializers.ObjectField.write(ObjectField.java:86)\n\tat com.esotericsoftware.kryo.serializers.FieldSerializer.write(FieldSerializer.java:508)\n\tat com.esotericsoftware.kryo.Kryo.writeClassAndObject(Kryo.java:651)\n\tat com.esotericsoftware.kryo.serializers.DefaultArraySerializers$ObjectArraySerializer.write(DefaultArraySerializers.java:361)\n\tat com.esotericsoftware.kryo.serializers.DefaultArraySerializers$ObjectArraySerializer.write(DefaultArraySerializers.java:302)\n\tat com.esotericsoftware.kryo.Kryo.writeClassAndObject(Kryo.java:651)\n\tat org.apache.spark.serializer.KryoSerializerInstance.serialize(KryoSerializer.scala:392)\n\t... 21 more\n",
     "output_type": "error",
     "traceback": [
      "\u001b[0;31m---------------------------------------------------------------------------\u001b[0m",
      "\u001b[0;31mPy4JJavaError\u001b[0m                             Traceback (most recent call last)",
      "Cell \u001b[0;32mIn[27], line 2\u001b[0m\n\u001b[1;32m      1\u001b[0m user_indexer \u001b[38;5;241m=\u001b[39m StringIndexer(inputCol\u001b[38;5;241m=\u001b[39m\u001b[38;5;124m\"\u001b[39m\u001b[38;5;124muser_id\u001b[39m\u001b[38;5;124m\"\u001b[39m, outputCol\u001b[38;5;241m=\u001b[39m\u001b[38;5;124m\"\u001b[39m\u001b[38;5;124muser_index\u001b[39m\u001b[38;5;124m\"\u001b[39m)\n\u001b[0;32m----> 2\u001b[0m model \u001b[38;5;241m=\u001b[39m \u001b[43muser_indexer\u001b[49m\u001b[38;5;241;43m.\u001b[39;49m\u001b[43mfit\u001b[49m\u001b[43m(\u001b[49m\u001b[43mdf_new\u001b[49m\u001b[43m)\u001b[49m\n\u001b[1;32m      3\u001b[0m df \u001b[38;5;241m=\u001b[39m model\u001b[38;5;241m.\u001b[39mtransform(df_new)\n",
      "File \u001b[0;32m/opt/homebrew/Caskroom/miniconda/base/envs/spark/lib/python3.9/site-packages/pyspark/ml/base.py:205\u001b[0m, in \u001b[0;36mEstimator.fit\u001b[0;34m(self, dataset, params)\u001b[0m\n\u001b[1;32m    203\u001b[0m         \u001b[38;5;28;01mreturn\u001b[39;00m \u001b[38;5;28mself\u001b[39m\u001b[38;5;241m.\u001b[39mcopy(params)\u001b[38;5;241m.\u001b[39m_fit(dataset)\n\u001b[1;32m    204\u001b[0m     \u001b[38;5;28;01melse\u001b[39;00m:\n\u001b[0;32m--> 205\u001b[0m         \u001b[38;5;28;01mreturn\u001b[39;00m \u001b[38;5;28;43mself\u001b[39;49m\u001b[38;5;241;43m.\u001b[39;49m\u001b[43m_fit\u001b[49m\u001b[43m(\u001b[49m\u001b[43mdataset\u001b[49m\u001b[43m)\u001b[49m\n\u001b[1;32m    206\u001b[0m \u001b[38;5;28;01melse\u001b[39;00m:\n\u001b[1;32m    207\u001b[0m     \u001b[38;5;28;01mraise\u001b[39;00m \u001b[38;5;167;01mTypeError\u001b[39;00m(\n\u001b[1;32m    208\u001b[0m         \u001b[38;5;124m\"\u001b[39m\u001b[38;5;124mParams must be either a param map or a list/tuple of param maps, \u001b[39m\u001b[38;5;124m\"\u001b[39m\n\u001b[1;32m    209\u001b[0m         \u001b[38;5;124m\"\u001b[39m\u001b[38;5;124mbut got \u001b[39m\u001b[38;5;132;01m%s\u001b[39;00m\u001b[38;5;124m.\u001b[39m\u001b[38;5;124m\"\u001b[39m \u001b[38;5;241m%\u001b[39m \u001b[38;5;28mtype\u001b[39m(params)\n\u001b[1;32m    210\u001b[0m     )\n",
      "File \u001b[0;32m/opt/homebrew/Caskroom/miniconda/base/envs/spark/lib/python3.9/site-packages/pyspark/ml/wrapper.py:381\u001b[0m, in \u001b[0;36mJavaEstimator._fit\u001b[0;34m(self, dataset)\u001b[0m\n\u001b[1;32m    380\u001b[0m \u001b[38;5;28;01mdef\u001b[39;00m \u001b[38;5;21m_fit\u001b[39m(\u001b[38;5;28mself\u001b[39m, dataset: DataFrame) \u001b[38;5;241m-\u001b[39m\u001b[38;5;241m>\u001b[39m JM:\n\u001b[0;32m--> 381\u001b[0m     java_model \u001b[38;5;241m=\u001b[39m \u001b[38;5;28;43mself\u001b[39;49m\u001b[38;5;241;43m.\u001b[39;49m\u001b[43m_fit_java\u001b[49m\u001b[43m(\u001b[49m\u001b[43mdataset\u001b[49m\u001b[43m)\u001b[49m\n\u001b[1;32m    382\u001b[0m     model \u001b[38;5;241m=\u001b[39m \u001b[38;5;28mself\u001b[39m\u001b[38;5;241m.\u001b[39m_create_model(java_model)\n\u001b[1;32m    383\u001b[0m     \u001b[38;5;28;01mreturn\u001b[39;00m \u001b[38;5;28mself\u001b[39m\u001b[38;5;241m.\u001b[39m_copyValues(model)\n",
      "File \u001b[0;32m/opt/homebrew/Caskroom/miniconda/base/envs/spark/lib/python3.9/site-packages/pyspark/ml/wrapper.py:378\u001b[0m, in \u001b[0;36mJavaEstimator._fit_java\u001b[0;34m(self, dataset)\u001b[0m\n\u001b[1;32m    375\u001b[0m \u001b[38;5;28;01massert\u001b[39;00m \u001b[38;5;28mself\u001b[39m\u001b[38;5;241m.\u001b[39m_java_obj \u001b[38;5;129;01mis\u001b[39;00m \u001b[38;5;129;01mnot\u001b[39;00m \u001b[38;5;28;01mNone\u001b[39;00m\n\u001b[1;32m    377\u001b[0m \u001b[38;5;28mself\u001b[39m\u001b[38;5;241m.\u001b[39m_transfer_params_to_java()\n\u001b[0;32m--> 378\u001b[0m \u001b[38;5;28;01mreturn\u001b[39;00m \u001b[38;5;28;43mself\u001b[39;49m\u001b[38;5;241;43m.\u001b[39;49m\u001b[43m_java_obj\u001b[49m\u001b[38;5;241;43m.\u001b[39;49m\u001b[43mfit\u001b[49m\u001b[43m(\u001b[49m\u001b[43mdataset\u001b[49m\u001b[38;5;241;43m.\u001b[39;49m\u001b[43m_jdf\u001b[49m\u001b[43m)\u001b[49m\n",
      "File \u001b[0;32m/opt/homebrew/Caskroom/miniconda/base/envs/spark/lib/python3.9/site-packages/py4j/java_gateway.py:1322\u001b[0m, in \u001b[0;36mJavaMember.__call__\u001b[0;34m(self, *args)\u001b[0m\n\u001b[1;32m   1316\u001b[0m command \u001b[38;5;241m=\u001b[39m proto\u001b[38;5;241m.\u001b[39mCALL_COMMAND_NAME \u001b[38;5;241m+\u001b[39m\\\n\u001b[1;32m   1317\u001b[0m     \u001b[38;5;28mself\u001b[39m\u001b[38;5;241m.\u001b[39mcommand_header \u001b[38;5;241m+\u001b[39m\\\n\u001b[1;32m   1318\u001b[0m     args_command \u001b[38;5;241m+\u001b[39m\\\n\u001b[1;32m   1319\u001b[0m     proto\u001b[38;5;241m.\u001b[39mEND_COMMAND_PART\n\u001b[1;32m   1321\u001b[0m answer \u001b[38;5;241m=\u001b[39m \u001b[38;5;28mself\u001b[39m\u001b[38;5;241m.\u001b[39mgateway_client\u001b[38;5;241m.\u001b[39msend_command(command)\n\u001b[0;32m-> 1322\u001b[0m return_value \u001b[38;5;241m=\u001b[39m \u001b[43mget_return_value\u001b[49m\u001b[43m(\u001b[49m\n\u001b[1;32m   1323\u001b[0m \u001b[43m    \u001b[49m\u001b[43manswer\u001b[49m\u001b[43m,\u001b[49m\u001b[43m \u001b[49m\u001b[38;5;28;43mself\u001b[39;49m\u001b[38;5;241;43m.\u001b[39;49m\u001b[43mgateway_client\u001b[49m\u001b[43m,\u001b[49m\u001b[43m \u001b[49m\u001b[38;5;28;43mself\u001b[39;49m\u001b[38;5;241;43m.\u001b[39;49m\u001b[43mtarget_id\u001b[49m\u001b[43m,\u001b[49m\u001b[43m \u001b[49m\u001b[38;5;28;43mself\u001b[39;49m\u001b[38;5;241;43m.\u001b[39;49m\u001b[43mname\u001b[49m\u001b[43m)\u001b[49m\n\u001b[1;32m   1325\u001b[0m \u001b[38;5;28;01mfor\u001b[39;00m temp_arg \u001b[38;5;129;01min\u001b[39;00m temp_args:\n\u001b[1;32m   1326\u001b[0m     \u001b[38;5;28;01mif\u001b[39;00m \u001b[38;5;28mhasattr\u001b[39m(temp_arg, \u001b[38;5;124m\"\u001b[39m\u001b[38;5;124m_detach\u001b[39m\u001b[38;5;124m\"\u001b[39m):\n",
      "File \u001b[0;32m/opt/homebrew/Caskroom/miniconda/base/envs/spark/lib/python3.9/site-packages/pyspark/errors/exceptions/captured.py:169\u001b[0m, in \u001b[0;36mcapture_sql_exception.<locals>.deco\u001b[0;34m(*a, **kw)\u001b[0m\n\u001b[1;32m    167\u001b[0m \u001b[38;5;28;01mdef\u001b[39;00m \u001b[38;5;21mdeco\u001b[39m(\u001b[38;5;241m*\u001b[39ma: Any, \u001b[38;5;241m*\u001b[39m\u001b[38;5;241m*\u001b[39mkw: Any) \u001b[38;5;241m-\u001b[39m\u001b[38;5;241m>\u001b[39m Any:\n\u001b[1;32m    168\u001b[0m     \u001b[38;5;28;01mtry\u001b[39;00m:\n\u001b[0;32m--> 169\u001b[0m         \u001b[38;5;28;01mreturn\u001b[39;00m \u001b[43mf\u001b[49m\u001b[43m(\u001b[49m\u001b[38;5;241;43m*\u001b[39;49m\u001b[43ma\u001b[49m\u001b[43m,\u001b[49m\u001b[43m \u001b[49m\u001b[38;5;241;43m*\u001b[39;49m\u001b[38;5;241;43m*\u001b[39;49m\u001b[43mkw\u001b[49m\u001b[43m)\u001b[49m\n\u001b[1;32m    170\u001b[0m     \u001b[38;5;28;01mexcept\u001b[39;00m Py4JJavaError \u001b[38;5;28;01mas\u001b[39;00m e:\n\u001b[1;32m    171\u001b[0m         converted \u001b[38;5;241m=\u001b[39m convert_exception(e\u001b[38;5;241m.\u001b[39mjava_exception)\n",
      "File \u001b[0;32m/opt/homebrew/Caskroom/miniconda/base/envs/spark/lib/python3.9/site-packages/py4j/protocol.py:326\u001b[0m, in \u001b[0;36mget_return_value\u001b[0;34m(answer, gateway_client, target_id, name)\u001b[0m\n\u001b[1;32m    324\u001b[0m value \u001b[38;5;241m=\u001b[39m OUTPUT_CONVERTER[\u001b[38;5;28mtype\u001b[39m](answer[\u001b[38;5;241m2\u001b[39m:], gateway_client)\n\u001b[1;32m    325\u001b[0m \u001b[38;5;28;01mif\u001b[39;00m answer[\u001b[38;5;241m1\u001b[39m] \u001b[38;5;241m==\u001b[39m REFERENCE_TYPE:\n\u001b[0;32m--> 326\u001b[0m     \u001b[38;5;28;01mraise\u001b[39;00m Py4JJavaError(\n\u001b[1;32m    327\u001b[0m         \u001b[38;5;124m\"\u001b[39m\u001b[38;5;124mAn error occurred while calling \u001b[39m\u001b[38;5;132;01m{0}\u001b[39;00m\u001b[38;5;132;01m{1}\u001b[39;00m\u001b[38;5;132;01m{2}\u001b[39;00m\u001b[38;5;124m.\u001b[39m\u001b[38;5;130;01m\\n\u001b[39;00m\u001b[38;5;124m\"\u001b[39m\u001b[38;5;241m.\u001b[39m\n\u001b[1;32m    328\u001b[0m         \u001b[38;5;28mformat\u001b[39m(target_id, \u001b[38;5;124m\"\u001b[39m\u001b[38;5;124m.\u001b[39m\u001b[38;5;124m\"\u001b[39m, name), value)\n\u001b[1;32m    329\u001b[0m \u001b[38;5;28;01melse\u001b[39;00m:\n\u001b[1;32m    330\u001b[0m     \u001b[38;5;28;01mraise\u001b[39;00m Py4JError(\n\u001b[1;32m    331\u001b[0m         \u001b[38;5;124m\"\u001b[39m\u001b[38;5;124mAn error occurred while calling \u001b[39m\u001b[38;5;132;01m{0}\u001b[39;00m\u001b[38;5;132;01m{1}\u001b[39;00m\u001b[38;5;132;01m{2}\u001b[39;00m\u001b[38;5;124m. Trace:\u001b[39m\u001b[38;5;130;01m\\n\u001b[39;00m\u001b[38;5;132;01m{3}\u001b[39;00m\u001b[38;5;130;01m\\n\u001b[39;00m\u001b[38;5;124m\"\u001b[39m\u001b[38;5;241m.\u001b[39m\n\u001b[1;32m    332\u001b[0m         \u001b[38;5;28mformat\u001b[39m(target_id, \u001b[38;5;124m\"\u001b[39m\u001b[38;5;124m.\u001b[39m\u001b[38;5;124m\"\u001b[39m, name, value))\n",
      "\u001b[0;31mPy4JJavaError\u001b[0m: An error occurred while calling o227.fit.\n: org.apache.spark.SparkException: Job aborted due to stage failure: Task 0 in stage 63.0 failed 1 times, most recent failure: Lost task 0.0 in stage 63.0 (TID 669) (172.21.0.231 executor driver): org.apache.spark.SparkException: Kryo serialization failed: Buffer overflow. Available: 0, required: 111\nSerialization trace:\n_values$mcJ$sp (org.apache.spark.util.collection.OpenHashMap$mcJ$sp). To avoid this, increase spark.kryoserializer.buffer.max value.\n\tat org.apache.spark.serializer.KryoSerializerInstance.serialize(KryoSerializer.scala:396)\n\tat org.apache.spark.sql.catalyst.expressions.GeneratedClass$SpecificUnsafeProjection.apply(Unknown Source)\n\tat org.apache.spark.sql.execution.aggregate.ComplexTypedAggregateExpression.eval(TypedAggregateExpression.scala:260)\n\tat org.apache.spark.sql.catalyst.expressions.aggregate.TypedImperativeAggregate.eval(interfaces.scala:597)\n\tat org.apache.spark.sql.execution.aggregate.AggregationIterator.$anonfun$generateResultProjection$5(AggregationIterator.scala:257)\n\tat org.apache.spark.sql.execution.aggregate.ObjectAggregationIterator.next(ObjectAggregationIterator.scala:96)\n\tat org.apache.spark.sql.execution.aggregate.ObjectAggregationIterator.next(ObjectAggregationIterator.scala:32)\n\tat org.apache.spark.sql.execution.SparkPlan.$anonfun$getByteArrayRdd$1(SparkPlan.scala:389)\n\tat org.apache.spark.rdd.RDD.$anonfun$mapPartitionsInternal$2(RDD.scala:888)\n\tat org.apache.spark.rdd.RDD.$anonfun$mapPartitionsInternal$2$adapted(RDD.scala:888)\n\tat org.apache.spark.rdd.MapPartitionsRDD.compute(MapPartitionsRDD.scala:52)\n\tat org.apache.spark.rdd.RDD.computeOrReadCheckpoint(RDD.scala:364)\n\tat org.apache.spark.rdd.RDD.iterator(RDD.scala:328)\n\tat org.apache.spark.scheduler.ResultTask.runTask(ResultTask.scala:92)\n\tat org.apache.spark.TaskContext.runTaskWithListeners(TaskContext.scala:161)\n\tat org.apache.spark.scheduler.Task.run(Task.scala:139)\n\tat org.apache.spark.executor.Executor$TaskRunner.$anonfun$run$3(Executor.scala:554)\n\tat org.apache.spark.util.Utils$.tryWithSafeFinally(Utils.scala:1529)\n\tat org.apache.spark.executor.Executor$TaskRunner.run(Executor.scala:557)\n\tat java.base/java.util.concurrent.ThreadPoolExecutor.runWorker(ThreadPoolExecutor.java:1128)\n\tat java.base/java.util.concurrent.ThreadPoolExecutor$Worker.run(ThreadPoolExecutor.java:628)\n\tat java.base/java.lang.Thread.run(Thread.java:829)\nCaused by: com.esotericsoftware.kryo.KryoException: Buffer overflow. Available: 0, required: 111\nSerialization trace:\n_values$mcJ$sp (org.apache.spark.util.collection.OpenHashMap$mcJ$sp)\n\tat com.esotericsoftware.kryo.io.Output.require(Output.java:167)\n\tat com.esotericsoftware.kryo.io.UnsafeOutput.writeBytes(UnsafeOutput.java:384)\n\tat com.esotericsoftware.kryo.io.UnsafeOutput.writeLongs(UnsafeOutput.java:331)\n\tat com.esotericsoftware.kryo.serializers.DefaultArraySerializers$LongArraySerializer.write(DefaultArraySerializers.java:130)\n\tat com.esotericsoftware.kryo.serializers.DefaultArraySerializers$LongArraySerializer.write(DefaultArraySerializers.java:119)\n\tat com.esotericsoftware.kryo.Kryo.writeObjectOrNull(Kryo.java:629)\n\tat com.esotericsoftware.kryo.serializers.ObjectField.write(ObjectField.java:86)\n\tat com.esotericsoftware.kryo.serializers.FieldSerializer.write(FieldSerializer.java:508)\n\tat com.esotericsoftware.kryo.Kryo.writeClassAndObject(Kryo.java:651)\n\tat com.esotericsoftware.kryo.serializers.DefaultArraySerializers$ObjectArraySerializer.write(DefaultArraySerializers.java:361)\n\tat com.esotericsoftware.kryo.serializers.DefaultArraySerializers$ObjectArraySerializer.write(DefaultArraySerializers.java:302)\n\tat com.esotericsoftware.kryo.Kryo.writeClassAndObject(Kryo.java:651)\n\tat org.apache.spark.serializer.KryoSerializerInstance.serialize(KryoSerializer.scala:392)\n\t... 21 more\n\nDriver stacktrace:\n\tat org.apache.spark.scheduler.DAGScheduler.failJobAndIndependentStages(DAGScheduler.scala:2785)\n\tat org.apache.spark.scheduler.DAGScheduler.$anonfun$abortStage$2(DAGScheduler.scala:2721)\n\tat org.apache.spark.scheduler.DAGScheduler.$anonfun$abortStage$2$adapted(DAGScheduler.scala:2720)\n\tat scala.collection.mutable.ResizableArray.foreach(ResizableArray.scala:62)\n\tat scala.collection.mutable.ResizableArray.foreach$(ResizableArray.scala:55)\n\tat scala.collection.mutable.ArrayBuffer.foreach(ArrayBuffer.scala:49)\n\tat org.apache.spark.scheduler.DAGScheduler.abortStage(DAGScheduler.scala:2720)\n\tat org.apache.spark.scheduler.DAGScheduler.$anonfun$handleTaskSetFailed$1(DAGScheduler.scala:1206)\n\tat org.apache.spark.scheduler.DAGScheduler.$anonfun$handleTaskSetFailed$1$adapted(DAGScheduler.scala:1206)\n\tat scala.Option.foreach(Option.scala:407)\n\tat org.apache.spark.scheduler.DAGScheduler.handleTaskSetFailed(DAGScheduler.scala:1206)\n\tat org.apache.spark.scheduler.DAGSchedulerEventProcessLoop.doOnReceive(DAGScheduler.scala:2984)\n\tat org.apache.spark.scheduler.DAGSchedulerEventProcessLoop.onReceive(DAGScheduler.scala:2923)\n\tat org.apache.spark.scheduler.DAGSchedulerEventProcessLoop.onReceive(DAGScheduler.scala:2912)\n\tat org.apache.spark.util.EventLoop$$anon$1.run(EventLoop.scala:49)\n\tat org.apache.spark.scheduler.DAGScheduler.runJob(DAGScheduler.scala:971)\n\tat org.apache.spark.SparkContext.runJob(SparkContext.scala:2263)\n\tat org.apache.spark.SparkContext.runJob(SparkContext.scala:2284)\n\tat org.apache.spark.SparkContext.runJob(SparkContext.scala:2303)\n\tat org.apache.spark.SparkContext.runJob(SparkContext.scala:2328)\n\tat org.apache.spark.rdd.RDD.$anonfun$collect$1(RDD.scala:1019)\n\tat org.apache.spark.rdd.RDDOperationScope$.withScope(RDDOperationScope.scala:151)\n\tat org.apache.spark.rdd.RDDOperationScope$.withScope(RDDOperationScope.scala:112)\n\tat org.apache.spark.rdd.RDD.withScope(RDD.scala:405)\n\tat org.apache.spark.rdd.RDD.collect(RDD.scala:1018)\n\tat org.apache.spark.sql.execution.SparkPlan.executeCollect(SparkPlan.scala:448)\n\tat org.apache.spark.sql.execution.adaptive.AdaptiveSparkPlanExec.$anonfun$executeCollect$1(AdaptiveSparkPlanExec.scala:354)\n\tat org.apache.spark.sql.execution.adaptive.AdaptiveSparkPlanExec.withFinalPlanUpdate(AdaptiveSparkPlanExec.scala:382)\n\tat org.apache.spark.sql.execution.adaptive.AdaptiveSparkPlanExec.executeCollect(AdaptiveSparkPlanExec.scala:354)\n\tat org.apache.spark.sql.Dataset.collectFromPlan(Dataset.scala:4177)\n\tat org.apache.spark.sql.Dataset.$anonfun$collect$1(Dataset.scala:3418)\n\tat org.apache.spark.sql.Dataset.$anonfun$withAction$2(Dataset.scala:4167)\n\tat org.apache.spark.sql.execution.QueryExecution$.withInternalError(QueryExecution.scala:526)\n\tat org.apache.spark.sql.Dataset.$anonfun$withAction$1(Dataset.scala:4165)\n\tat org.apache.spark.sql.execution.SQLExecution$.$anonfun$withNewExecutionId$6(SQLExecution.scala:118)\n\tat org.apache.spark.sql.execution.SQLExecution$.withSQLConfPropagated(SQLExecution.scala:195)\n\tat org.apache.spark.sql.execution.SQLExecution$.$anonfun$withNewExecutionId$1(SQLExecution.scala:103)\n\tat org.apache.spark.sql.SparkSession.withActive(SparkSession.scala:827)\n\tat org.apache.spark.sql.execution.SQLExecution$.withNewExecutionId(SQLExecution.scala:65)\n\tat org.apache.spark.sql.Dataset.withAction(Dataset.scala:4165)\n\tat org.apache.spark.sql.Dataset.collect(Dataset.scala:3418)\n\tat org.apache.spark.ml.feature.StringIndexer.countByValue(StringIndexer.scala:204)\n\tat org.apache.spark.ml.feature.StringIndexer.sortByFreq(StringIndexer.scala:212)\n\tat org.apache.spark.ml.feature.StringIndexer.fit(StringIndexer.scala:242)\n\tat java.base/jdk.internal.reflect.NativeMethodAccessorImpl.invoke0(Native Method)\n\tat java.base/jdk.internal.reflect.NativeMethodAccessorImpl.invoke(NativeMethodAccessorImpl.java:62)\n\tat java.base/jdk.internal.reflect.DelegatingMethodAccessorImpl.invoke(DelegatingMethodAccessorImpl.java:43)\n\tat java.base/java.lang.reflect.Method.invoke(Method.java:566)\n\tat py4j.reflection.MethodInvoker.invoke(MethodInvoker.java:244)\n\tat py4j.reflection.ReflectionEngine.invoke(ReflectionEngine.java:374)\n\tat py4j.Gateway.invoke(Gateway.java:282)\n\tat py4j.commands.AbstractCommand.invokeMethod(AbstractCommand.java:132)\n\tat py4j.commands.CallCommand.execute(CallCommand.java:79)\n\tat py4j.ClientServerConnection.waitForCommands(ClientServerConnection.java:182)\n\tat py4j.ClientServerConnection.run(ClientServerConnection.java:106)\n\tat java.base/java.lang.Thread.run(Thread.java:829)\nCaused by: org.apache.spark.SparkException: Kryo serialization failed: Buffer overflow. Available: 0, required: 111\nSerialization trace:\n_values$mcJ$sp (org.apache.spark.util.collection.OpenHashMap$mcJ$sp). To avoid this, increase spark.kryoserializer.buffer.max value.\n\tat org.apache.spark.serializer.KryoSerializerInstance.serialize(KryoSerializer.scala:396)\n\tat org.apache.spark.sql.catalyst.expressions.GeneratedClass$SpecificUnsafeProjection.apply(Unknown Source)\n\tat org.apache.spark.sql.execution.aggregate.ComplexTypedAggregateExpression.eval(TypedAggregateExpression.scala:260)\n\tat org.apache.spark.sql.catalyst.expressions.aggregate.TypedImperativeAggregate.eval(interfaces.scala:597)\n\tat org.apache.spark.sql.execution.aggregate.AggregationIterator.$anonfun$generateResultProjection$5(AggregationIterator.scala:257)\n\tat org.apache.spark.sql.execution.aggregate.ObjectAggregationIterator.next(ObjectAggregationIterator.scala:96)\n\tat org.apache.spark.sql.execution.aggregate.ObjectAggregationIterator.next(ObjectAggregationIterator.scala:32)\n\tat org.apache.spark.sql.execution.SparkPlan.$anonfun$getByteArrayRdd$1(SparkPlan.scala:389)\n\tat org.apache.spark.rdd.RDD.$anonfun$mapPartitionsInternal$2(RDD.scala:888)\n\tat org.apache.spark.rdd.RDD.$anonfun$mapPartitionsInternal$2$adapted(RDD.scala:888)\n\tat org.apache.spark.rdd.MapPartitionsRDD.compute(MapPartitionsRDD.scala:52)\n\tat org.apache.spark.rdd.RDD.computeOrReadCheckpoint(RDD.scala:364)\n\tat org.apache.spark.rdd.RDD.iterator(RDD.scala:328)\n\tat org.apache.spark.scheduler.ResultTask.runTask(ResultTask.scala:92)\n\tat org.apache.spark.TaskContext.runTaskWithListeners(TaskContext.scala:161)\n\tat org.apache.spark.scheduler.Task.run(Task.scala:139)\n\tat org.apache.spark.executor.Executor$TaskRunner.$anonfun$run$3(Executor.scala:554)\n\tat org.apache.spark.util.Utils$.tryWithSafeFinally(Utils.scala:1529)\n\tat org.apache.spark.executor.Executor$TaskRunner.run(Executor.scala:557)\n\tat java.base/java.util.concurrent.ThreadPoolExecutor.runWorker(ThreadPoolExecutor.java:1128)\n\tat java.base/java.util.concurrent.ThreadPoolExecutor$Worker.run(ThreadPoolExecutor.java:628)\n\t... 1 more\nCaused by: com.esotericsoftware.kryo.KryoException: Buffer overflow. Available: 0, required: 111\nSerialization trace:\n_values$mcJ$sp (org.apache.spark.util.collection.OpenHashMap$mcJ$sp)\n\tat com.esotericsoftware.kryo.io.Output.require(Output.java:167)\n\tat com.esotericsoftware.kryo.io.UnsafeOutput.writeBytes(UnsafeOutput.java:384)\n\tat com.esotericsoftware.kryo.io.UnsafeOutput.writeLongs(UnsafeOutput.java:331)\n\tat com.esotericsoftware.kryo.serializers.DefaultArraySerializers$LongArraySerializer.write(DefaultArraySerializers.java:130)\n\tat com.esotericsoftware.kryo.serializers.DefaultArraySerializers$LongArraySerializer.write(DefaultArraySerializers.java:119)\n\tat com.esotericsoftware.kryo.Kryo.writeObjectOrNull(Kryo.java:629)\n\tat com.esotericsoftware.kryo.serializers.ObjectField.write(ObjectField.java:86)\n\tat com.esotericsoftware.kryo.serializers.FieldSerializer.write(FieldSerializer.java:508)\n\tat com.esotericsoftware.kryo.Kryo.writeClassAndObject(Kryo.java:651)\n\tat com.esotericsoftware.kryo.serializers.DefaultArraySerializers$ObjectArraySerializer.write(DefaultArraySerializers.java:361)\n\tat com.esotericsoftware.kryo.serializers.DefaultArraySerializers$ObjectArraySerializer.write(DefaultArraySerializers.java:302)\n\tat com.esotericsoftware.kryo.Kryo.writeClassAndObject(Kryo.java:651)\n\tat org.apache.spark.serializer.KryoSerializerInstance.serialize(KryoSerializer.scala:392)\n\t... 21 more\n"
     ]
    }
   ],
   "source": [
    "# user_indexer = StringIndexer(inputCol=\"user_id\", outputCol=\"user_index\")\n",
    "# model = user_indexer.fit(df_new)\n",
    "# df = model.transform(df_new)"
   ]
  },
  {
   "cell_type": "code",
   "execution_count": 28,
   "id": "a83f9a9c",
   "metadata": {},
   "outputs": [
    {
     "name": "stderr",
     "output_type": "stream",
     "text": [
      "\r",
      "                                                                                \r"
     ]
    },
    {
     "data": {
      "text/plain": [
       "'541312140'"
      ]
     },
     "execution_count": 28,
     "metadata": {},
     "output_type": "execute_result"
    }
   ],
   "source": [
    "df.select('user_id').first()[0]"
   ]
  },
  {
   "cell_type": "code",
   "execution_count": null,
   "id": "00e26c59",
   "metadata": {},
   "outputs": [],
   "source": [
    "#recommendation user ASL \n",
    "# user_indexer = StringIndexer(inputCol=\"user_id\", outputCol=\"user_index\")\n",
    "# model = user_indexer.fit(df)\n",
    "# df = model.transform(df)\n",
    "\n",
    "# item_indexer = StringIndexer(inputCol=\"product_id\", outputCol=\"item_index\")\n",
    "# model = item_indexer.fit(df)\n",
    "# df = model.transform(df)\n",
    "\n",
    "# # Incorporate additional features and assemble them into a feature vector\n",
    "# feature_cols = [\"user_index\", \"item_index\", \"price\", \"brand\", \"category_id\"]\n",
    "# vector_assembler = VectorAssembler(inputCols=feature_cols, outputCol=\"features\")"
   ]
  },
  {
   "cell_type": "code",
   "execution_count": null,
   "id": "810ece31",
   "metadata": {},
   "outputs": [],
   "source": []
  },
  {
   "cell_type": "code",
   "execution_count": 29,
   "id": "5eeb0a4b",
   "metadata": {},
   "outputs": [
    {
     "name": "stdout",
     "output_type": "stream",
     "text": [
      "+-------------------+----------+----------+-------------------+--------------------+--------+-------+---------+--------------------+----------+\n",
      "|         event_time|event_type|product_id|        category_id|       category_code|   brand|  price|  user_id|        user_session|      date|\n",
      "+-------------------+----------+----------+-------------------+--------------------+--------+-------+---------+--------------------+----------+\n",
      "|2019-10-01 05:45:00|      view|  44600062|2103807459595387724|                null|shiseido|  35.79|541312140|72d76fde-8bb3-4e0...|2019-10-01|\n",
      "|2019-10-01 05:45:00|      view|   3900821|2053013552326770905|appliances.enviro...|    aqua|  33.20|554748717|9333dfbd-b87a-470...|2019-10-01|\n",
      "|2019-10-01 05:45:01|      view|  17200506|2053013559792632471|furniture.living_...|    null| 543.10|519107250|566511c2-e2e3-422...|2019-10-01|\n",
      "|2019-10-01 05:45:01|      view|   1307067|2053013558920217191|  computers.notebook|  lenovo| 251.74|550050854|7c90fc70-0e80-459...|2019-10-01|\n",
      "|2019-10-01 05:45:04|      view|   1004237|2053013555631882655|electronics.smart...|   apple|1081.98|535871217|c6bd7419-2748-4c5...|2019-10-01|\n",
      "|2019-10-01 05:45:05|      view|   1480613|2053013561092866779|   computers.desktop|  pulser| 908.62|512742880|0d0d91c2-c9c2-4e8...|2019-10-01|\n",
      "|2019-10-01 05:45:08|      view|  17300353|2053013553853497655|                null|   creed| 380.96|555447699|4fe811e9-91de-46d...|2019-10-01|\n",
      "|2019-10-01 05:45:08|      view|  31500053|2053013558031024687|                null|luminarc|  41.16|550978835|6280d577-25c8-414...|2019-10-01|\n",
      "|2019-10-01 05:45:10|      view|  28719074|2053013565480109009|  apparel.shoes.keds|   baden| 102.71|520571932|ac1cd4e5-a3ce-422...|2019-10-01|\n",
      "|2019-10-01 05:45:11|      view|   1004545|2053013555631882655|electronics.smart...|  huawei| 566.01|537918940|406c46ed-90a4-478...|2019-10-01|\n",
      "|2019-10-01 05:45:11|      view|   2900536|2053013554776244595|appliances.kitche...|elenberg|  51.46|555158050|b5bdd0b3-4ca2-4c5...|2019-10-01|\n",
      "|2019-10-01 05:45:11|      view|   1005011|2053013555631882655|electronics.smart...| samsung| 900.64|530282093|50a293fb-5940-41b...|2019-10-01|\n",
      "|2019-10-01 05:45:13|      view|   3900746|2053013552326770905|appliances.enviro...|   haier| 102.38|555444559|98b88fa0-d8fa-4b9...|2019-10-01|\n",
      "|2019-10-01 05:45:15|      view|  44600062|2103807459595387724|                null|shiseido|  35.79|541312140|72d76fde-8bb3-4e0...|2019-10-01|\n",
      "|2019-10-01 05:45:16|      view|  13500240|2053013557099889147|furniture.bedroom...|     brw|  93.18|555446365|7f0062d8-ead0-4e0...|2019-10-01|\n",
      "|2019-10-01 05:45:17|      view|  23100006|2053013561638126333|                null|    null| 357.79|513642368|17566c27-0a8f-450...|2019-10-01|\n",
      "|2019-10-01 05:45:18|      view|   1801995|2053013554415534427|electronics.video.tv|   haier| 193.03|537192226|e3151795-c355-4ef...|2019-10-01|\n",
      "|2019-10-01 05:45:18|      view|  10900029|2053013555069845885|appliances.kitche...|   bosch|  58.95|519528062|901b9e3c-3f8f-414...|2019-10-01|\n",
      "|2019-10-01 05:45:19|      view|   1306631|2053013558920217191|  computers.notebook|      hp| 580.89|550050854|7c90fc70-0e80-459...|2019-10-01|\n",
      "|2019-10-01 05:45:19|      view|   1005135|2053013555631882655|electronics.smart...|   apple|1747.79|535871217|c6bd7419-2748-4c5...|2019-10-01|\n",
      "+-------------------+----------+----------+-------------------+--------------------+--------+-------+---------+--------------------+----------+\n",
      "only showing top 20 rows\n",
      "\n"
     ]
    }
   ],
   "source": [
    "df.show()"
   ]
  },
  {
   "cell_type": "code",
   "execution_count": 30,
   "id": "6d228077",
   "metadata": {},
   "outputs": [],
   "source": [
    "df.createOrReplaceTempView('ecommerce')"
   ]
  },
  {
   "cell_type": "code",
   "execution_count": 31,
   "id": "fa124707",
   "metadata": {},
   "outputs": [
    {
     "name": "stderr",
     "output_type": "stream",
     "text": [
      "[Stage 66:=====================================================>  (41 + 2) / 43]\r"
     ]
    },
    {
     "name": "stdout",
     "output_type": "stream",
     "text": [
      "+------+\n",
      "| count|\n",
      "+------+\n",
      "|628209|\n",
      "+------+\n",
      "\n"
     ]
    },
    {
     "name": "stderr",
     "output_type": "stream",
     "text": [
      "\r",
      "                                                                                \r"
     ]
    }
   ],
   "source": [
    "#Distinct User_session per user_id and product_id for event type cart\n",
    "distinct = spark.sql(\"\"\"\n",
    "SELECT COUNT(*) AS count \n",
    "FROM (\n",
    "SELECT DISTINCT product_id, user_id, user_session\n",
    "FROM (\n",
    "SELECT * from ecommerce \n",
    "WHERE event_type='cart'\n",
    ")\n",
    ")\"\"\")\n",
    "\n",
    "distinct.show()"
   ]
  },
  {
   "cell_type": "code",
   "execution_count": 32,
   "id": "5901f8a0",
   "metadata": {},
   "outputs": [
    {
     "name": "stderr",
     "output_type": "stream",
     "text": [
      "[Stage 72:=====================================================>  (41 + 2) / 43]\r"
     ]
    },
    {
     "name": "stdout",
     "output_type": "stream",
     "text": [
      "+------+\n",
      "| count|\n",
      "+------+\n",
      "|926516|\n",
      "+------+\n",
      "\n"
     ]
    },
    {
     "name": "stderr",
     "output_type": "stream",
     "text": [
      "\r",
      "                                                                                \r"
     ]
    }
   ],
   "source": [
    "#User_session per user_id and product_id for event type cart\n",
    "distinct = spark.sql(\"\"\"\n",
    "SELECT COUNT(*) AS count FROM ecommerce\n",
    "WHERE event_type='cart'\n",
    "\"\"\")\n",
    "\n",
    "distinct.show()"
   ]
  },
  {
   "cell_type": "code",
   "execution_count": null,
   "id": "11873841",
   "metadata": {},
   "outputs": [],
   "source": []
  },
  {
   "cell_type": "markdown",
   "id": "5684c4cd",
   "metadata": {},
   "source": [
    "### Recommendation"
   ]
  },
  {
   "cell_type": "code",
   "execution_count": 33,
   "id": "b2f15cb6",
   "metadata": {},
   "outputs": [],
   "source": [
    "df = org_df\n",
    "df = df.withColumn('user_id', col('user_id').cast('integer'))\n",
    "df = df.withColumn('product_id', col('product_id').cast('integer'))"
   ]
  },
  {
   "cell_type": "code",
   "execution_count": 34,
   "id": "9bb9e75c",
   "metadata": {},
   "outputs": [],
   "source": [
    "#Using ALS Algorithm\n",
    "def preprocessing(df):\n",
    "    df = df.withColumn('user_id', col('user_id').cast('integer'))\n",
    "    df = df.withColumn('product_id', col('product_id').cast('integer'))\n",
    "    df = df.withColumn('category_id', col('category_id').cast('long'))\n",
    "    \n",
    "#     df.groupby('product_id').agg(first('category_id').alias('category_id'),\n",
    "#                                       first('category_code').alias('category_code'),\n",
    "#                                       count(when(df['event_type'] == 'view', True)).alias('views'),\n",
    "#                                       count(when(df['event_type'] == 'cart', True)).alias('carts'),\n",
    "#                                       count(when(df['event_type'] == 'purchase', True)).alias('purchases'),\n",
    "#                                       mean('price').alias('price'),\n",
    "#                                       min('event_time').alias('first_date'),\n",
    "#                                       max('event_time').alias('last_date'))"
   ]
  },
  {
   "cell_type": "markdown",
   "id": "8a01da40",
   "metadata": {},
   "source": [
    "### Feature Engineering"
   ]
  },
  {
   "cell_type": "markdown",
   "id": "9d60561a",
   "metadata": {},
   "source": [
    "##### It is required to find the interaction between users and products inorder to create a recommendation engine, so the only possible ways to calculate the interaction by event_type"
   ]
  },
  {
   "cell_type": "code",
   "execution_count": 35,
   "id": "e0ae13ff",
   "metadata": {},
   "outputs": [],
   "source": [
    "def productFeatures(df):\n",
    "    df = df.groupby('product_id').agg(first('category_id').alias('category_id'),\n",
    "                                      first('category_code').alias('category_code'),\n",
    "                                      count(when(df['event_type'] == 'view', True)).alias('views'),\n",
    "                                      count(when(df['event_type'] == 'cart', True)).alias('carts'),\n",
    "                                      count(when(df['event_type'] == 'purchase', True)).alias('purchases'),\n",
    "                                      mean('price').alias('price'),\n",
    "                                      min('event_time').alias('first_date'),\n",
    "                                      max('event_time').alias('last_date'))\n",
    "    \n",
    "    # Calculate interaction rates\n",
    "    df = df.withColumn('purchase_per_view', df['purchases'] / df['views'])\n",
    "    df = df.withColumn('cart_per_view', df['carts'] / df['views'])\n",
    "    df = df.withColumn('purchase_per_cart', when(df['carts'] == 0, df['purchases']).otherwise(df['purchases'] / df['carts']))\n",
    "    \n",
    "    return df"
   ]
  },
  {
   "cell_type": "code",
   "execution_count": 36,
   "id": "21fc5f0c",
   "metadata": {},
   "outputs": [],
   "source": [
    "def userFeatures(df):\n",
    "    # Calculate several metrics for users with the aggregate function\n",
    "    df = df.groupby('user_id').agg(count(when(df['event_type'] == 'view', True)).alias('views'),\n",
    "                                   count(when(df['event_type'] == 'cart', True)).alias('carts'),\n",
    "                                   count(when(df['event_type'] == 'purchase', True)).alias('purchases'),\n",
    "                                   countDistinct(when(df['event_type'] == 'view', col('product_id'))).alias('distinct_products_viewed'),\n",
    "                                   countDistinct(when(df['event_type'] == 'cart', col('product_id'))).alias('distinct_products_carted'),\n",
    "                                   countDistinct(when(df['event_type'] == 'purchase', col('product_id'))).alias('distinct_products_purchased'),\n",
    "                                   mean(when(df['event_type'] == 'view', col('price'))).alias('average_price_viewed'),\n",
    "                                   mean(when(df['event_type'] == 'purchase', col('price'))).alias('average_price_purchased'),\n",
    "                                   mean(when(df['event_type'] == 'view', col('relative_price'))).alias('avg_relative_price_viewed'),\n",
    "                                   mean(when(df['event_type'] == 'purchase', col('relative_price'))).alias('avg_relative_price_purchased'),\n",
    "                                   min('event_time').alias('first_date'),\n",
    "                                   max('event_time').alias('last_date'))\n",
    "    \n",
    "    # Calculate interaction rates\n",
    "    df = df.withColumn('purchase_per_view', when(df['views'] == 0, df['purchases']).otherwise(df['purchases'] / df['views']))\n",
    "    df = df.withColumn('cart_per_view', when(df['views'] == 0, df['carts']).otherwise(df['carts'] / df['views']))\n",
    "    df = df.withColumn('purchase_per_cart', when(df['carts'] == 0, df['purchases']).otherwise(df['purchases'] / df['carts']))\n",
    "    \n",
    "    return df"
   ]
  },
  {
   "cell_type": "code",
   "execution_count": 37,
   "id": "3bf00174",
   "metadata": {},
   "outputs": [],
   "source": [
    "test = productFeatures(df)"
   ]
  },
  {
   "cell_type": "code",
   "execution_count": 38,
   "id": "af372431",
   "metadata": {},
   "outputs": [
    {
     "name": "stderr",
     "output_type": "stream",
     "text": [
      "[Stage 75:=====================================================>  (41 + 2) / 43]\r"
     ]
    },
    {
     "name": "stdout",
     "output_type": "stream",
     "text": [
      "+----------+-------------------+--------------------+-----+-----+---------+------------------+--------------------+--------------------+--------------------+--------------------+------------------+\n",
      "|product_id|        category_id|       category_code|views|carts|purchases|             price|          first_date|           last_date|   purchase_per_view|       cart_per_view| purchase_per_cart|\n",
      "+----------+-------------------+--------------------+-----+-----+---------+------------------+--------------------+--------------------+--------------------+--------------------+------------------+\n",
      "|   1000978|2053013555631882655|electronics.smart...| 3153|    0|       12| 314.6216334913111|2019-10-21 06:23:...|2019-10-31 19:33:...|0.003805899143672693|                 0.0|              12.0|\n",
      "|   1002062|2053013555631882655|electronics.smart...| 1556|    0|       18|104.12713468869136|2019-10-01 03:07:...|2019-10-27 19:12:...|0.011568123393316195|                 0.0|              18.0|\n",
      "|   1002396|2053013555631882655|electronics.smart...|  996|    0|        2| 275.3500901803607|2019-10-01 04:05:...|2019-10-31 17:38:...|0.002008032128514056|                 0.0|               2.0|\n",
      "|   1002415|2053013555631882655|electronics.smart...|  161|    0|        0| 274.9044099378882|2019-10-10 17:45:...|2019-10-22 18:39:...|                 0.0|                 0.0|               0.0|\n",
      "|   1002484|2053013555631882655|electronics.smart...| 2052|    0|        1|179.58646371164153|2019-10-01 03:20:...|2019-10-31 19:58:...|4.873294346978557E-4|                 0.0|               1.0|\n",
      "|   1002528|2053013555631882655|electronics.smart...|23817|  609|      612| 581.5126515696163|2019-10-01 00:02:...|2019-10-31 22:47:...| 0.02569593147751606|0.025569971029096864|1.0049261083743843|\n",
      "|   1002531|2053013555631882655|electronics.smart...|  264|    0|        7| 735.8292250922511|2019-10-01 10:53:...|2019-10-31 23:04:...|0.026515151515151516|                 0.0|               7.0|\n",
      "|   1002538|2053013555631882655|electronics.smart...| 2126|    0|       27| 593.0141291221548|2019-10-01 02:58:...|2019-10-31 18:43:...|0.012699905926622766|                 0.0|              27.0|\n",
      "|   1002548|2053013555631882655|electronics.smart...|11632|    7|      191| 549.1425097210486|2019-10-01 02:32:...|2019-10-31 23:23:...| 0.01642022008253095|6.017881705639615E-4|27.285714285714285|\n",
      "|   1002634|2053013555631882655|electronics.smart...|18378|  691|      535|374.35337788206454|2019-10-01 02:20:...|2019-10-31 23:29:...|0.029110893459571227| 0.03759930351507237|0.7742402315484804|\n",
      "|   1002757|2053013555631882655|electronics.smart...|   91|    0|        0|            168.69|2019-10-01 04:22:...|2019-10-31 10:49:...|                 0.0|                 0.0|               0.0|\n",
      "|   1002929|2053013555631882655|electronics.smart...|  541|    0|        1| 84.91568265682658|2019-10-01 05:55:...|2019-10-31 22:03:...|0.001848428835489...|                 0.0|               1.0|\n",
      "|   1003013|2053013555631882655|electronics.smart...| 1518|    0|        7|179.89999999999992|2019-10-01 03:07:...|2019-10-31 17:00:...| 0.00461133069828722|                 0.0|               7.0|\n",
      "|   1003048|2053013555631882655|electronics.smart...|  173|    0|        0|            643.52|2019-10-01 06:55:...|2019-10-31 20:58:...|                 0.0|                 0.0|               0.0|\n",
      "|   1003064|2053013555631882655|electronics.smart...|   21|    0|        1|            424.72|2019-10-02 05:40:...|2019-10-31 19:35:...|0.047619047619047616|                 0.0|               1.0|\n",
      "|   1003102|2053013555631882655|electronics.smart...|  114|    0|        0| 180.1599999999999|2019-10-01 04:06:...|2019-10-31 18:47:...|                 0.0|                 0.0|               0.0|\n",
      "|   1003113|2053013555631882655|electronics.smart...|    9|    0|        0|             280.9|2019-10-08 16:56:...|2019-10-29 04:05:...|                 0.0|                 0.0|               0.0|\n",
      "|   1003141|2053013555631882655|electronics.smart...| 3987|    0|       23| 378.8976807980054|2019-10-01 00:00:...|2019-10-31 18:04:...|0.005768748432405317|                 0.0|              23.0|\n",
      "|   1003171|2053013555631882655|electronics.smart...|   30|    0|        0| 450.4399999999999|2019-10-05 14:32:...|2019-10-30 05:08:...|                 0.0|                 0.0|               0.0|\n",
      "|   1003176|2053013555631882655|electronics.smart...| 3326|    0|        6| 434.5551710684272|2019-10-01 02:59:...|2019-10-31 20:44:...|0.001803968731208...|                 0.0|               6.0|\n",
      "+----------+-------------------+--------------------+-----+-----+---------+------------------+--------------------+--------------------+--------------------+--------------------+------------------+\n",
      "only showing top 20 rows\n",
      "\n"
     ]
    },
    {
     "name": "stderr",
     "output_type": "stream",
     "text": [
      "\r",
      "                                                                                \r"
     ]
    }
   ],
   "source": [
    "test.show()"
   ]
  },
  {
   "cell_type": "code",
   "execution_count": 39,
   "id": "030258d4",
   "metadata": {},
   "outputs": [
    {
     "data": {
      "text/plain": [
       "['product_id',\n",
       " 'category_id',\n",
       " 'category_code',\n",
       " 'views',\n",
       " 'carts',\n",
       " 'purchases',\n",
       " 'price',\n",
       " 'first_date',\n",
       " 'last_date',\n",
       " 'purchase_per_view',\n",
       " 'cart_per_view',\n",
       " 'purchase_per_cart']"
      ]
     },
     "execution_count": 39,
     "metadata": {},
     "output_type": "execute_result"
    }
   ],
   "source": [
    "test.columns"
   ]
  },
  {
   "cell_type": "code",
   "execution_count": 40,
   "id": "e3ad7937",
   "metadata": {},
   "outputs": [],
   "source": [
    "test.createOrReplaceTempView('test')"
   ]
  },
  {
   "cell_type": "code",
   "execution_count": 41,
   "id": "ab9c2f07",
   "metadata": {},
   "outputs": [],
   "source": [
    "test = spark.sql(\"\"\"\n",
    "    SELECT views, carts, purchases FROM test\n",
    "\"\"\")"
   ]
  },
  {
   "cell_type": "code",
   "execution_count": 42,
   "id": "7b311420",
   "metadata": {},
   "outputs": [
    {
     "name": "stderr",
     "output_type": "stream",
     "text": [
      "[Stage 78:=====================================================>  (41 + 2) / 43]\r"
     ]
    },
    {
     "name": "stdout",
     "output_type": "stream",
     "text": [
      "+------+-----+---------+\n",
      "| views|carts|purchases|\n",
      "+------+-----+---------+\n",
      "|   143|    0|        1|\n",
      "| 17571|    6|      651|\n",
      "|100221| 5184|     3218|\n",
      "|137295| 9332|     4243|\n",
      "|  3987|    0|       23|\n",
      "|   954|    0|        6|\n",
      "| 13416|  354|      281|\n",
      "|  3947|    0|      106|\n",
      "|   696|    0|        1|\n",
      "|  5999|   89|      151|\n",
      "| 48795|  218|      834|\n",
      "|  1094|    3|        1|\n",
      "|   775|    0|       10|\n",
      "|  1599|    0|       13|\n",
      "| 16277|  994|      489|\n",
      "|  1909|    0|        1|\n",
      "|  7745|    0|      170|\n",
      "|  4420|   59|       45|\n",
      "| 15628|    0|      103|\n",
      "|   457|    0|        3|\n",
      "+------+-----+---------+\n",
      "only showing top 20 rows\n",
      "\n"
     ]
    },
    {
     "name": "stderr",
     "output_type": "stream",
     "text": [
      "\r",
      "                                                                                \r"
     ]
    }
   ],
   "source": [
    "test.show()"
   ]
  },
  {
   "cell_type": "code",
   "execution_count": 43,
   "id": "7c0a6db4",
   "metadata": {},
   "outputs": [],
   "source": [
    "# User Engagement Feature:\n",
    "user_interaction_counts = df.groupBy(\"user_id\").agg(count(\"product_id\").alias(\"product_interaction_count\"))\n",
    "df = df.join(user_interaction_counts, on=\"user_id\")"
   ]
  },
  {
   "cell_type": "code",
   "execution_count": 44,
   "id": "46939a98",
   "metadata": {},
   "outputs": [],
   "source": [
    "#Items Popularity Feature:\n",
    "item_popularity = df.groupBy(\"product_id\").agg(count(\"user_id\").alias(\"product_popularity_count\"))\n",
    "df = df.join(item_popularity, on=\"product_id\")"
   ]
  },
  {
   "cell_type": "code",
   "execution_count": 45,
   "id": "6e7ef73f",
   "metadata": {},
   "outputs": [],
   "source": [
    "#Interaction count through event_type, giving rating to the events\n",
    "df = df.withColumn(\"implicit_rating\",\n",
    "    when(df.event_type == \"purchase\", 5.0)\n",
    "    .when(df.event_type == \"view\", 1.0)\n",
    "    .when(df.event_type == \"cart\", 3.0)\n",
    "    .otherwise(0.0))"
   ]
  },
  {
   "cell_type": "code",
   "execution_count": null,
   "id": "a23c8eb7",
   "metadata": {},
   "outputs": [],
   "source": [
    "#User to Item\n",
    "# user_interaction_history = df.groupBy(\"user_id\").agg(collect_list(\"product_id\").alias(\"interaction_history\"))\n",
    "# df = df.join(user_interaction_history, on=\"user_id\")"
   ]
  },
  {
   "cell_type": "code",
   "execution_count": null,
   "id": "c33793e7",
   "metadata": {},
   "outputs": [],
   "source": [
    "#User to User and Item to Item\n",
    "# user_similarity = df.alias(\"a\").join(df.alias(\"b\"), \"product_id\").groupBy(\"a.user_id\", \"b.user_id\").agg(count(\"a.product_id\").alias(\"common_interactions\"))"
   ]
  },
  {
   "cell_type": "code",
   "execution_count": null,
   "id": "ba28b128",
   "metadata": {},
   "outputs": [],
   "source": [
    "# user_similarity.show()"
   ]
  },
  {
   "cell_type": "code",
   "execution_count": 46,
   "id": "c5a9faac",
   "metadata": {},
   "outputs": [
    {
     "name": "stderr",
     "output_type": "stream",
     "text": [
      "23/09/01 09:41:15 WARN RowBasedKeyValueBatch: Calling spill() on RowBasedKeyValueBatch. Will not spill but return 0.\n",
      "23/09/01 09:41:15 WARN RowBasedKeyValueBatch: Calling spill() on RowBasedKeyValueBatch. Will not spill but return 0.\n",
      "23/09/01 09:41:15 WARN RowBasedKeyValueBatch: Calling spill() on RowBasedKeyValueBatch. Will not spill but return 0.\n",
      "23/09/01 09:41:16 WARN RowBasedKeyValueBatch: Calling spill() on RowBasedKeyValueBatch. Will not spill but return 0.\n",
      "23/09/01 09:41:17 WARN RowBasedKeyValueBatch: Calling spill() on RowBasedKeyValueBatch. Will not spill but return 0.\n",
      "[Stage 90:==================================================>     (10 + 1) / 11]\r"
     ]
    },
    {
     "name": "stdout",
     "output_type": "stream",
     "text": [
      "+----------+---------+--------------------+----------+-------------------+--------------------+-------+------+--------------------+-------------------------+------------------------+---------------+\n",
      "|product_id|  user_id|          event_time|event_type|        category_id|       category_code|  brand| price|        user_session|product_interaction_count|product_popularity_count|implicit_rating|\n",
      "+----------+---------+--------------------+----------+-------------------+--------------------+-------+------+--------------------+-------------------------+------------------------+---------------+\n",
      "|   1002062|512692012|2019-10-17 06:05:...|      view|2053013555631882655|electronics.smart...|samsung|107.59|2dbe753d-d4c0-4e3...|                       94|                    1574|            1.0|\n",
      "|   1002062|512860014|2019-10-15 06:42:...|      view|2053013555631882655|electronics.smart...|samsung|107.59|f14249e5-b53d-45a...|                        5|                    1574|            1.0|\n",
      "|   1002062|513059381|2019-10-15 11:26:...|      view|2053013555631882655|electronics.smart...|samsung|107.59|ef24214d-dddf-49d...|                       37|                    1574|            1.0|\n",
      "|   1002062|513059381|2019-10-15 11:26:...|      view|2053013555631882655|electronics.smart...|samsung|107.59|ef24214d-dddf-49d...|                       37|                    1574|            1.0|\n",
      "|   1002062|513059381|2019-10-18 16:27:...|      view|2053013555631882655|electronics.smart...|samsung|107.59|7665c17e-4e13-499...|                       37|                    1574|            1.0|\n",
      "|   1002062|513095920|2019-10-16 11:27:...|      view|2053013555631882655|electronics.smart...|samsung|107.59|29e7a832-55c3-466...|                        5|                    1574|            1.0|\n",
      "|   1002062|513519291|2019-10-18 09:14:...|      view|2053013555631882655|electronics.smart...|samsung|107.59|c58514be-f1d4-45c...|                       42|                    1574|            1.0|\n",
      "|   1002062|513734711|2019-10-27 08:43:...|      view|2053013555631882655|electronics.smart...|samsung|107.59|a7f832f2-c8b6-4e7...|                       33|                    1574|            1.0|\n",
      "|   1002062|513734711|2019-10-27 10:14:...|      view|2053013555631882655|electronics.smart...|samsung|107.59|1b73820a-85b5-426...|                       33|                    1574|            1.0|\n",
      "|   1002062|513734711|2019-10-27 10:15:...|      view|2053013555631882655|electronics.smart...|samsung|107.59|1b73820a-85b5-426...|                       33|                    1574|            1.0|\n",
      "|   1002062|513734711|2019-10-27 10:22:...|      view|2053013555631882655|electronics.smart...|samsung|107.59|1b73820a-85b5-426...|                       33|                    1574|            1.0|\n",
      "|   1002062|514063662|2019-10-15 10:05:...|      view|2053013555631882655|electronics.smart...|samsung|107.59|4068bb83-2d9e-41e...|                      166|                    1574|            1.0|\n",
      "|   1002062|514063662|2019-10-15 10:10:...|      view|2053013555631882655|electronics.smart...|samsung|107.59|4068bb83-2d9e-41e...|                      166|                    1574|            1.0|\n",
      "|   1002062|514445942|2019-10-15 02:45:...|      view|2053013555631882655|electronics.smart...|samsung|107.59|3c785b91-034f-444...|                      151|                    1574|            1.0|\n",
      "|   1002062|514569736|2019-10-18 05:20:...|      view|2053013555631882655|electronics.smart...|samsung|107.59|289d050b-fedd-4fe...|                       27|                    1574|            1.0|\n",
      "|   1002062|514569736|2019-10-18 05:21:...|      view|2053013555631882655|electronics.smart...|samsung|107.59|289d050b-fedd-4fe...|                       27|                    1574|            1.0|\n",
      "|   1002062|514569736|2019-10-18 05:23:...|      view|2053013555631882655|electronics.smart...|samsung|107.59|289d050b-fedd-4fe...|                       27|                    1574|            1.0|\n",
      "|   1002062|514591855|2019-10-17 07:48:...|      view|2053013555631882655|electronics.smart...|samsung|107.59|1e11dc7c-2875-46f...|                       55|                    1574|            1.0|\n",
      "|   1002062|514591855|2019-10-17 07:50:...|      view|2053013555631882655|electronics.smart...|samsung|107.59|df1b3192-30c7-4ce...|                       55|                    1574|            1.0|\n",
      "|   1002062|514651697|2019-10-26 15:20:...|      view|2053013555631882655|electronics.smart...|samsung|107.59|27580456-f70a-4f3...|                       18|                    1574|            1.0|\n",
      "+----------+---------+--------------------+----------+-------------------+--------------------+-------+------+--------------------+-------------------------+------------------------+---------------+\n",
      "only showing top 20 rows\n",
      "\n"
     ]
    },
    {
     "name": "stderr",
     "output_type": "stream",
     "text": [
      "\r",
      "[Stage 97:>                                                         (0 + 1) / 1]\r",
      "\r",
      "                                                                                \r"
     ]
    }
   ],
   "source": [
    "df.show()"
   ]
  },
  {
   "cell_type": "code",
   "execution_count": 47,
   "id": "05869714",
   "metadata": {},
   "outputs": [],
   "source": [
    "avg_ratings = df.groupby('user_id', 'product_id').agg(avg(\"implicit_rating\").alias(\"avg_implicit_rating\"))"
   ]
  },
  {
   "cell_type": "code",
   "execution_count": 48,
   "id": "ea99e1ad",
   "metadata": {},
   "outputs": [
    {
     "name": "stderr",
     "output_type": "stream",
     "text": [
      "23/09/01 09:44:00 WARN RowBasedKeyValueBatch: Calling spill() on RowBasedKeyValueBatch. Will not spill but return 0.\n",
      "23/09/01 09:44:00 WARN RowBasedKeyValueBatch: Calling spill() on RowBasedKeyValueBatch. Will not spill but return 0.\n",
      "23/09/01 09:44:00 WARN RowBasedKeyValueBatch: Calling spill() on RowBasedKeyValueBatch. Will not spill but return 0.\n",
      "23/09/01 09:44:00 WARN RowBasedKeyValueBatch: Calling spill() on RowBasedKeyValueBatch. Will not spill but return 0.\n",
      "23/09/01 09:44:00 WARN RowBasedKeyValueBatch: Calling spill() on RowBasedKeyValueBatch. Will not spill but return 0.\n",
      "23/09/01 09:44:00 WARN RowBasedKeyValueBatch: Calling spill() on RowBasedKeyValueBatch. Will not spill but return 0.\n",
      "23/09/01 09:44:00 WARN RowBasedKeyValueBatch: Calling spill() on RowBasedKeyValueBatch. Will not spill but return 0.\n",
      "23/09/01 09:44:00 WARN RowBasedKeyValueBatch: Calling spill() on RowBasedKeyValueBatch. Will not spill but return 0.\n",
      "23/09/01 09:44:00 WARN RowBasedKeyValueBatch: Calling spill() on RowBasedKeyValueBatch. Will not spill but return 0.\n",
      "23/09/01 09:44:00 WARN RowBasedKeyValueBatch: Calling spill() on RowBasedKeyValueBatch. Will not spill but return 0.\n",
      "23/09/01 09:44:00 WARN RowBasedKeyValueBatch: Calling spill() on RowBasedKeyValueBatch. Will not spill but return 0.\n",
      "23/09/01 09:44:02 WARN RowBasedKeyValueBatch: Calling spill() on RowBasedKeyValueBatch. Will not spill but return 0.\n",
      "23/09/01 09:44:02 WARN RowBasedKeyValueBatch: Calling spill() on RowBasedKeyValueBatch. Will not spill but return 0.\n",
      "23/09/01 09:44:02 WARN RowBasedKeyValueBatch: Calling spill() on RowBasedKeyValueBatch. Will not spill but return 0.\n",
      "23/09/01 09:44:03 WARN RowBasedKeyValueBatch: Calling spill() on RowBasedKeyValueBatch. Will not spill but return 0.\n",
      "[Stage 111:==================================================>    (10 + 1) / 11]\r"
     ]
    },
    {
     "name": "stdout",
     "output_type": "stream",
     "text": [
      "+---------+----------+-------------------+\n",
      "|  user_id|product_id|avg_implicit_rating|\n",
      "+---------+----------+-------------------+\n",
      "|555206055|   1003613|                5.0|\n",
      "|525681592|   1004768|                5.0|\n",
      "|529883950|   1004858|                5.0|\n",
      "|513275580|   4200316|                5.0|\n",
      "|524708790|   1002547|                5.0|\n",
      "|515006338|   1003768|                5.0|\n",
      "|557784610|   5100855|                5.0|\n",
      "|515246658|   1005112|                5.0|\n",
      "|556746429|   1005135|                5.0|\n",
      "|520981322|   3700869|                5.0|\n",
      "|542489800|   1004858|                5.0|\n",
      "|520981322|   6301081|                5.0|\n",
      "|555754312|   1003991|                5.0|\n",
      "|556773763|   1002099|                5.0|\n",
      "|547420007|   1004767|                5.0|\n",
      "|527610958|  27700695|                5.0|\n",
      "|518330002|   2701657|                5.0|\n",
      "|530056413|   1005106|                5.0|\n",
      "|564571070|   1307353|                5.0|\n",
      "|530602725|   8800668|                5.0|\n",
      "+---------+----------+-------------------+\n",
      "only showing top 20 rows\n",
      "\n"
     ]
    },
    {
     "name": "stderr",
     "output_type": "stream",
     "text": [
      "\r",
      "                                                                                \r"
     ]
    }
   ],
   "source": [
    "avg_ratings.orderBy(\"avg_implicit_rating\", ascending=False).show()"
   ]
  },
  {
   "cell_type": "code",
   "execution_count": 50,
   "id": "a1c201ac",
   "metadata": {},
   "outputs": [],
   "source": [
    "# df = df.join(avg_ratings, on=\"avg_ratings\")"
   ]
  },
  {
   "cell_type": "code",
   "execution_count": 51,
   "id": "5182e5a3",
   "metadata": {},
   "outputs": [],
   "source": [
    "train_data, test_data = df.randomSplit([0.7, 0.3], seed=123)"
   ]
  },
  {
   "cell_type": "code",
   "execution_count": 52,
   "id": "3b8fe947",
   "metadata": {},
   "outputs": [
    {
     "name": "stderr",
     "output_type": "stream",
     "text": [
      "23/09/01 09:45:55 WARN RowBasedKeyValueBatch: Calling spill() on RowBasedKeyValueBatch. Will not spill but return 0.\n",
      "23/09/01 09:45:55 WARN RowBasedKeyValueBatch: Calling spill() on RowBasedKeyValueBatch. Will not spill but return 0.\n",
      "23/09/01 09:45:55 WARN RowBasedKeyValueBatch: Calling spill() on RowBasedKeyValueBatch. Will not spill but return 0.\n",
      "23/09/01 09:45:55 WARN RowBasedKeyValueBatch: Calling spill() on RowBasedKeyValueBatch. Will not spill but return 0.\n",
      "23/09/01 09:45:55 WARN RowBasedKeyValueBatch: Calling spill() on RowBasedKeyValueBatch. Will not spill but return 0.\n",
      "23/09/01 09:45:55 WARN RowBasedKeyValueBatch: Calling spill() on RowBasedKeyValueBatch. Will not spill but return 0.\n",
      "23/09/01 09:45:55 WARN RowBasedKeyValueBatch: Calling spill() on RowBasedKeyValueBatch. Will not spill but return 0.\n",
      "23/09/01 09:45:55 WARN RowBasedKeyValueBatch: Calling spill() on RowBasedKeyValueBatch. Will not spill but return 0.\n",
      "23/09/01 09:45:56 WARN RowBasedKeyValueBatch: Calling spill() on RowBasedKeyValueBatch. Will not spill but return 0.\n",
      "23/09/01 09:45:56 WARN RowBasedKeyValueBatch: Calling spill() on RowBasedKeyValueBatch. Will not spill but return 0.\n",
      "23/09/01 09:45:56 WARN RowBasedKeyValueBatch: Calling spill() on RowBasedKeyValueBatch. Will not spill but return 0.\n",
      "23/09/01 09:45:57 WARN RowBasedKeyValueBatch: Calling spill() on RowBasedKeyValueBatch. Will not spill but return 0.\n",
      "23/09/01 09:45:57 WARN RowBasedKeyValueBatch: Calling spill() on RowBasedKeyValueBatch. Will not spill but return 0.\n",
      "23/09/01 09:45:58 WARN RowBasedKeyValueBatch: Calling spill() on RowBasedKeyValueBatch. Will not spill but return 0.\n",
      "23/09/01 09:45:58 WARN RowBasedKeyValueBatch: Calling spill() on RowBasedKeyValueBatch. Will not spill but return 0.\n",
      "23/09/01 09:46:12 WARN InstanceBuilder: Failed to load implementation from:dev.ludovic.netlib.blas.JNIBLAS\n",
      "23/09/01 09:46:14 WARN InstanceBuilder: Failed to load implementation from:dev.ludovic.netlib.lapack.JNILAPACK\n",
      "                                                                                \r"
     ]
    }
   ],
   "source": [
    "## Recommendation through the interaction calculated through customers behavior\n",
    "#training the ASL Model\n",
    "als = ALS(userCol=\"user_id\", itemCol=\"product_id\", ratingCol=\"avg_implicit_rating\", coldStartStrategy=\"drop\")\n",
    "model = als.fit(avg_ratings)"
   ]
  },
  {
   "cell_type": "code",
   "execution_count": null,
   "id": "c6921f83",
   "metadata": {},
   "outputs": [],
   "source": [
    "model.save(\"recommendation\")"
   ]
  },
  {
   "cell_type": "code",
   "execution_count": 53,
   "id": "f7dff08e",
   "metadata": {},
   "outputs": [
    {
     "name": "stderr",
     "output_type": "stream",
     "text": [
      "[Stage 212:==================================================>    (10 + 1) / 11]\r"
     ]
    },
    {
     "name": "stdout",
     "output_type": "stream",
     "text": [
      "+---------+\n",
      "|  user_id|\n",
      "+---------+\n",
      "|512366600|\n",
      "|512366600|\n",
      "|512366600|\n",
      "|512366600|\n",
      "|512366600|\n",
      "|512366600|\n",
      "|512396120|\n",
      "|512396120|\n",
      "|512398823|\n",
      "|512411198|\n",
      "|512411198|\n",
      "|512411198|\n",
      "|512484964|\n",
      "|512591978|\n",
      "|512692012|\n",
      "|512698534|\n",
      "|512728758|\n",
      "|512728758|\n",
      "|512728758|\n",
      "|512752138|\n",
      "+---------+\n",
      "only showing top 20 rows\n",
      "\n"
     ]
    },
    {
     "name": "stderr",
     "output_type": "stream",
     "text": [
      "\r",
      "                                                                                \r"
     ]
    }
   ],
   "source": [
    "df.select('user_id').show()"
   ]
  },
  {
   "cell_type": "code",
   "execution_count": 54,
   "id": "0352db3c",
   "metadata": {},
   "outputs": [],
   "source": [
    "subset_users = df.select(\"user_id\").distinct().limit(3)"
   ]
  },
  {
   "cell_type": "code",
   "execution_count": 55,
   "id": "19ae500c",
   "metadata": {},
   "outputs": [
    {
     "name": "stderr",
     "output_type": "stream",
     "text": [
      "[Stage 270:===================================================>  (95 + 5) / 100]\r"
     ]
    },
    {
     "name": "stdout",
     "output_type": "stream",
     "text": [
      "+---------+--------------------+\n",
      "|  user_id|     recommendations|\n",
      "+---------+--------------------+\n",
      "|513059381|[{28102013, 2.653...|\n",
      "|512692012|[{28102013, 2.715...|\n",
      "|512860014|[{28102013, 2.652...|\n",
      "+---------+--------------------+\n",
      "\n"
     ]
    },
    {
     "name": "stderr",
     "output_type": "stream",
     "text": [
      "\r",
      "                                                                                \r"
     ]
    }
   ],
   "source": [
    "# Generating User Recommendations on test data\n",
    "user_recommendations = model.recommendForUserSubset(subset_users, 10)\n",
    "\n",
    "user_recommendations.show()\n",
    "# # Evaluate the model using RegressionEvaluator\n",
    "# evaluator = RegressionEvaluator(metricName=\"rmse\", labelCol=\"implicit_rating\", predictionCol=\"prediction\")\n",
    "# rmse = evaluator.evaluate(user_recommendations)\n",
    "\n",
    "# rmse"
   ]
  },
  {
   "cell_type": "code",
   "execution_count": null,
   "id": "ff14e3a9",
   "metadata": {},
   "outputs": [],
   "source": [
    "avg_ratings.filter(col(\"user_id\")==513059381).show()"
   ]
  },
  {
   "cell_type": "code",
   "execution_count": 56,
   "id": "6a342dc9",
   "metadata": {},
   "outputs": [
    {
     "name": "stderr",
     "output_type": "stream",
     "text": [
      "[Stage 301:>(41 + 2) / 43][Stage 302:> (0 + 6) / 43][Stage 303:> (0 + 0) / 43]3]\r"
     ]
    },
    {
     "name": "stdout",
     "output_type": "stream",
     "text": [
      "+-------+----------+-------------------+\n",
      "|user_id|product_id|avg_implicit_rating|\n",
      "+-------+----------+-------------------+\n",
      "+-------+----------+-------------------+\n",
      "\n"
     ]
    },
    {
     "name": "stderr",
     "output_type": "stream",
     "text": [
      "[Stage 304:=====================================================> (42 + 1) / 43]\r"
     ]
    }
   ],
   "source": [
    "avg_ratings.filter((col(\"user_id\")==513059381) & (col(\"product_id\")==28102013)).show()"
   ]
  },
  {
   "cell_type": "code",
   "execution_count": 64,
   "id": "4aef89da",
   "metadata": {},
   "outputs": [],
   "source": [
    "predictions = model.transform(test_data)"
   ]
  },
  {
   "cell_type": "code",
   "execution_count": 63,
   "id": "7987f391",
   "metadata": {},
   "outputs": [
    {
     "data": {
      "text/plain": [
       "['product_id',\n",
       " 'user_id',\n",
       " 'event_time',\n",
       " 'event_type',\n",
       " 'category_id',\n",
       " 'category_code',\n",
       " 'brand',\n",
       " 'price',\n",
       " 'user_session',\n",
       " 'product_interaction_count',\n",
       " 'product_popularity_count',\n",
       " 'implicit_rating',\n",
       " 'prediction']"
      ]
     },
     "execution_count": 63,
     "metadata": {},
     "output_type": "execute_result"
    }
   ],
   "source": []
  },
  {
   "cell_type": "code",
   "execution_count": 66,
   "id": "2c68a1f0",
   "metadata": {},
   "outputs": [
    {
     "name": "stderr",
     "output_type": "stream",
     "text": [
      "23/09/01 12:30:56 WARN RowBasedKeyValueBatch: Calling spill() on RowBasedKeyValueBatch. Will not spill but return 0.\n",
      "23/09/01 12:30:56 WARN RowBasedKeyValueBatch: Calling spill() on RowBasedKeyValueBatch. Will not spill but return 0.\n",
      "23/09/01 12:30:56 WARN RowBasedKeyValueBatch: Calling spill() on RowBasedKeyValueBatch. Will not spill but return 0.\n",
      "23/09/01 12:30:56 WARN RowBasedKeyValueBatch: Calling spill() on RowBasedKeyValueBatch. Will not spill but return 0.\n",
      "23/09/01 12:30:56 WARN RowBasedKeyValueBatch: Calling spill() on RowBasedKeyValueBatch. Will not spill but return 0.\n",
      "23/09/01 12:30:56 WARN RowBasedKeyValueBatch: Calling spill() on RowBasedKeyValueBatch. Will not spill but return 0.\n",
      "23/09/01 12:30:56 WARN RowBasedKeyValueBatch: Calling spill() on RowBasedKeyValueBatch. Will not spill but return 0.\n",
      "23/09/01 12:30:56 WARN RowBasedKeyValueBatch: Calling spill() on RowBasedKeyValueBatch. Will not spill but return 0.\n",
      "23/09/01 12:30:57 WARN RowBasedKeyValueBatch: Calling spill() on RowBasedKeyValueBatch. Will not spill but return 0.\n",
      "23/09/01 12:30:57 WARN RowBasedKeyValueBatch: Calling spill() on RowBasedKeyValueBatch. Will not spill but return 0.\n",
      "23/09/01 12:30:57 WARN RowBasedKeyValueBatch: Calling spill() on RowBasedKeyValueBatch. Will not spill but return 0.\n",
      "23/09/01 12:30:58 WARN RowBasedKeyValueBatch: Calling spill() on RowBasedKeyValueBatch. Will not spill but return 0.\n",
      "23/09/01 12:30:58 WARN RowBasedKeyValueBatch: Calling spill() on RowBasedKeyValueBatch. Will not spill but return 0.\n",
      "                                                                                \r"
     ]
    }
   ],
   "source": [
    "# # Evaluate the model using RegressionEvaluator\n",
    "evaluator = RegressionEvaluator(metricName=\"rmse\", labelCol=\"implicit_rating\", predictionCol=\"prediction\")\n",
    "rmse = evaluator.evaluate(predictions)\n",
    "\n",
    "# rmse"
   ]
  },
  {
   "cell_type": "code",
   "execution_count": 67,
   "id": "8a15fcf9",
   "metadata": {},
   "outputs": [
    {
     "data": {
      "text/plain": [
       "0.5705403311345519"
      ]
     },
     "execution_count": 67,
     "metadata": {},
     "output_type": "execute_result"
    }
   ],
   "source": [
    "rmse"
   ]
  }
 ],
 "metadata": {
  "kernelspec": {
   "display_name": "Python 3 (ipykernel)",
   "language": "python",
   "name": "python3"
  },
  "language_info": {
   "codemirror_mode": {
    "name": "ipython",
    "version": 3
   },
   "file_extension": ".py",
   "mimetype": "text/x-python",
   "name": "python",
   "nbconvert_exporter": "python",
   "pygments_lexer": "ipython3",
   "version": "3.9.17"
  }
 },
 "nbformat": 4,
 "nbformat_minor": 5
}
