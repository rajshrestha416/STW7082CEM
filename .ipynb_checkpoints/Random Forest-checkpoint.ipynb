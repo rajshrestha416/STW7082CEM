{
 "cells": [
  {
   "cell_type": "code",
   "execution_count": 73,
   "id": "40323c63",
   "metadata": {},
   "outputs": [],
   "source": [
    "# Import necessary libraries\n",
    "from pyspark.sql import SparkSession\n",
    "from pyspark.sql.functions import *\n",
    "from pyspark.ml.feature import VectorAssembler\n",
    "from pyspark.ml.classification import RandomForestClassifier\n",
    "from pyspark.ml.evaluation import MulticlassClassificationEvaluator\n",
    "from pyspark.mllib.evaluation import MulticlassMetrics\n",
    "from pyspark.ml import Pipeline\n",
    "from pyspark.ml.feature import StringIndexer\n",
    "import matplotlib.pyplot as plt\n",
    "import seaborn as sns"
   ]
  },
  {
   "cell_type": "code",
   "execution_count": 2,
   "id": "43cafc62",
   "metadata": {},
   "outputs": [
    {
     "name": "stderr",
     "output_type": "stream",
     "text": [
      "Setting default log level to \"WARN\".\n",
      "To adjust logging level use sc.setLogLevel(newLevel). For SparkR, use setLogLevel(newLevel).\n",
      "23/09/02 07:06:35 WARN NativeCodeLoader: Unable to load native-hadoop library for your platform... using builtin-java classes where applicable\n"
     ]
    }
   ],
   "source": [
    "spark=SparkSession.builder.appName(\"Models\") \\\n",
    ".config (\"spark.sql.shuffle.partitions\", \"16\") \\\n",
    ".config(\"spark.driver.maxResultSize\",\"4g\") \\\n",
    ".config (\"spark.sql.execution.arrow.pyspark.enabled\", \"true\") \\\n",
    ".config(\"spark.sql.legacy.timeParserPolicy\", \"LEGACY\") \\\n",
    ".config(\"spark.driver.memory\", \"4g\") \\\n",
    ".config(\"spark.executor.cores\", \"4\") \\\n",
    ".getOrCreate()\n",
    "\n",
    "spark.sparkContext.setLogLevel(\"WARN\")"
   ]
  },
  {
   "cell_type": "code",
   "execution_count": 3,
   "id": "336fb07b",
   "metadata": {},
   "outputs": [
    {
     "name": "stderr",
     "output_type": "stream",
     "text": [
      "                                                                                \r"
     ]
    }
   ],
   "source": [
    "df = spark.read.csv(\"ecomerce.csv\", header=True, inferSchema=True)"
   ]
  },
  {
   "cell_type": "code",
   "execution_count": 32,
   "id": "dd5c97ad",
   "metadata": {},
   "outputs": [
    {
     "name": "stderr",
     "output_type": "stream",
     "text": [
      "[Stage 39:=====================================================>  (41 + 2) / 43]\r"
     ]
    },
    {
     "name": "stdout",
     "output_type": "stream",
     "text": [
      "+----------+----------+----------+-----------+-------------+-------+-----+-------+------------+\n",
      "|event_time|event_type|product_id|category_id|category_code|  brand|price|user_id|user_session|\n",
      "+----------+----------+----------+-----------+-------------+-------+-----+-------+------------+\n",
      "|         0|         0|         0|          0|     13515609|6113008|    0|      0|           2|\n",
      "+----------+----------+----------+-----------+-------------+-------+-----+-------+------------+\n",
      "\n"
     ]
    },
    {
     "name": "stderr",
     "output_type": "stream",
     "text": [
      "\r",
      "[Stage 39:======================================================> (42 + 1) / 43]\r",
      "\r",
      "                                                                                \r"
     ]
    }
   ],
   "source": [
    "#null values\n",
    "df.select([count(when(isnull(c), c)).alias(c) for c in df.columns]).show()"
   ]
  },
  {
   "cell_type": "code",
   "execution_count": 35,
   "id": "25a880f5",
   "metadata": {},
   "outputs": [],
   "source": [
    "# Remove rows with null values in the \"brand\" column\n",
    "df = df.na.drop(subset=[\"brand\"])\n",
    "\n",
    "# Since we won't be working through the category code, instead category_id will be used"
   ]
  },
  {
   "cell_type": "code",
   "execution_count": 34,
   "id": "9bda6bec",
   "metadata": {},
   "outputs": [
    {
     "name": "stderr",
     "output_type": "stream",
     "text": [
      "[Stage 42:=====================================================>  (41 + 2) / 43]\r"
     ]
    },
    {
     "name": "stdout",
     "output_type": "stream",
     "text": [
      "+----------+----------+----------+-----------+-------------+-----+-----+-------+------------+\n",
      "|event_time|event_type|product_id|category_id|category_code|brand|price|user_id|user_session|\n",
      "+----------+----------+----------+-----------+-------------+-----+-----+-------+------------+\n",
      "|         0|         0|         0|          0|      9775134|    0|    0|      0|           2|\n",
      "+----------+----------+----------+-----------+-------------+-----+-----+-------+------------+\n",
      "\n"
     ]
    },
    {
     "name": "stderr",
     "output_type": "stream",
     "text": [
      "\r",
      "                                                                                \r"
     ]
    }
   ],
   "source": [
    "df.select([count(when(isnull(c), c)).alias(c) for c in df.columns]).show()"
   ]
  },
  {
   "cell_type": "code",
   "execution_count": 51,
   "id": "52f4fba3",
   "metadata": {},
   "outputs": [],
   "source": [
    "# Preprocess the data and encode categorical variables\n",
    "event_type_indexer = StringIndexer(inputCol=\"event_type\", outputCol=\"event_type_index\")"
   ]
  },
  {
   "cell_type": "code",
   "execution_count": 52,
   "id": "0bc965a1",
   "metadata": {},
   "outputs": [],
   "source": [
    "# Preprocess the data and encode categorical variables\n",
    "brand_indexer = StringIndexer(inputCol=\"brand\", outputCol=\"brand_index\")"
   ]
  },
  {
   "cell_type": "code",
   "execution_count": 53,
   "id": "0f6aaeec",
   "metadata": {},
   "outputs": [
    {
     "name": "stderr",
     "output_type": "stream",
     "text": [
      "                                                                                \r"
     ]
    }
   ],
   "source": [
    "pipeline = Pipeline(stages=[event_type_indexer, brand_indexer])\n",
    "\n",
    "indexed = pipeline.fit(df).transform(df)"
   ]
  },
  {
   "cell_type": "code",
   "execution_count": 54,
   "id": "17a0bfd2",
   "metadata": {},
   "outputs": [
    {
     "data": {
      "text/plain": [
       "DataFrame[event_time: string, event_type: string, product_id: int, category_id: bigint, category_code: string, brand: string, price: double, user_id: int, user_session: string, event_type_index: double, brand_index: double]"
      ]
     },
     "execution_count": 54,
     "metadata": {},
     "output_type": "execute_result"
    }
   ],
   "source": [
    "indexed"
   ]
  },
  {
   "cell_type": "code",
   "execution_count": 59,
   "id": "14da9e11",
   "metadata": {},
   "outputs": [],
   "source": [
    "# Select relevant features\n",
    "feature_columns = [\"category_id\", \"price\"]  # Replace with actual feature names\n",
    "assembler = VectorAssembler(inputCols=feature_columns, outputCol=\"features\")\n",
    "data = assembler.transform(indexed)"
   ]
  },
  {
   "cell_type": "code",
   "execution_count": 60,
   "id": "8e4655c5",
   "metadata": {},
   "outputs": [
    {
     "name": "stdout",
     "output_type": "stream",
     "text": [
      "+--------------------+----------+----------+-------------------+--------------------+--------+-------+---------+--------------------+----------------+-----------+--------------------+\n",
      "|          event_time|event_type|product_id|        category_id|       category_code|   brand|  price|  user_id|        user_session|event_type_index|brand_index|            features|\n",
      "+--------------------+----------+----------+-------------------+--------------------+--------+-------+---------+--------------------+----------------+-----------+--------------------+\n",
      "|2019-10-01 00:00:...|      view|  44600062|2103807459595387724|                null|shiseido|  35.79|541312140|72d76fde-8bb3-4e0...|             0.0|      595.0|[2.10380745959538...|\n",
      "|2019-10-01 00:00:...|      view|   3900821|2053013552326770905|appliances.enviro...|    aqua|   33.2|554748717|9333dfbd-b87a-470...|             0.0|      260.0|[2.05301355232677...|\n",
      "|2019-10-01 00:00:...|      view|   1307067|2053013558920217191|  computers.notebook|  lenovo| 251.74|550050854|7c90fc70-0e80-459...|             0.0|       12.0|[2.05301355892021...|\n",
      "|2019-10-01 00:00:...|      view|   1004237|2053013555631882655|electronics.smart...|   apple|1081.98|535871217|c6bd7419-2748-4c5...|             0.0|        1.0|[2.05301355563188...|\n",
      "|2019-10-01 00:00:...|      view|   1480613|2053013561092866779|   computers.desktop|  pulser| 908.62|512742880|0d0d91c2-c9c2-4e8...|             0.0|       59.0|[2.05301356109286...|\n",
      "|2019-10-01 00:00:...|      view|  17300353|2053013553853497655|                null|   creed| 380.96|555447699|4fe811e9-91de-46d...|             0.0|      259.0|[2.05301355385349...|\n",
      "|2019-10-01 00:00:...|      view|  31500053|2053013558031024687|                null|luminarc|  41.16|550978835|6280d577-25c8-414...|             0.0|       65.0|[2.05301355803102...|\n",
      "|2019-10-01 00:00:...|      view|  28719074|2053013565480109009|  apparel.shoes.keds|   baden| 102.71|520571932|ac1cd4e5-a3ce-422...|             0.0|       39.0|[2.05301356548010...|\n",
      "|2019-10-01 00:00:...|      view|   1004545|2053013555631882655|electronics.smart...|  huawei| 566.01|537918940|406c46ed-90a4-478...|             0.0|        3.0|[2.05301355563188...|\n",
      "|2019-10-01 00:00:...|      view|   2900536|2053013554776244595|appliances.kitche...|elenberg|  51.46|555158050|b5bdd0b3-4ca2-4c5...|             0.0|       20.0|[2.05301355477624...|\n",
      "|2019-10-01 00:00:...|      view|   1005011|2053013555631882655|electronics.smart...| samsung| 900.64|530282093|50a293fb-5940-41b...|             0.0|        0.0|[2.05301355563188...|\n",
      "|2019-10-01 00:00:...|      view|   3900746|2053013552326770905|appliances.enviro...|   haier| 102.38|555444559|98b88fa0-d8fa-4b9...|             0.0|       30.0|[2.05301355232677...|\n",
      "|2019-10-01 00:00:...|      view|  44600062|2103807459595387724|                null|shiseido|  35.79|541312140|72d76fde-8bb3-4e0...|             0.0|      595.0|[2.10380745959538...|\n",
      "|2019-10-01 00:00:...|      view|  13500240|2053013557099889147|furniture.bedroom...|     brw|  93.18|555446365|7f0062d8-ead0-4e0...|             0.0|       33.0|[2.05301355709988...|\n",
      "|2019-10-01 00:00:...|      view|   1801995|2053013554415534427|electronics.video.tv|   haier| 193.03|537192226|e3151795-c355-4ef...|             0.0|       30.0|[2.05301355441553...|\n",
      "|2019-10-01 00:00:...|      view|  10900029|2053013555069845885|appliances.kitche...|   bosch|  58.95|519528062|901b9e3c-3f8f-414...|             0.0|        6.0|[2.05301355506984...|\n",
      "|2019-10-01 00:00:...|      view|   1306631|2053013558920217191|  computers.notebook|      hp| 580.89|550050854|7c90fc70-0e80-459...|             0.0|       13.0|[2.05301355892021...|\n",
      "|2019-10-01 00:00:...|      view|   1005135|2053013555631882655|electronics.smart...|   apple|1747.79|535871217|c6bd7419-2748-4c5...|             0.0|        1.0|[2.05301355563188...|\n",
      "|2019-10-01 00:00:...|      view|   1003306|2053013555631882655|electronics.smart...|   apple| 588.77|555446831|6ec635da-ea15-4a5...|             0.0|        1.0|[2.05301355563188...|\n",
      "|2019-10-01 00:00:...|      view|   4803399|2053013554658804075|electronics.audio...|     jbl|  33.21|555428858|8a6afed4-77f8-40c...|             0.0|       36.0|[2.05301355465880...|\n",
      "+--------------------+----------+----------+-------------------+--------------------+--------+-------+---------+--------------------+----------------+-----------+--------------------+\n",
      "only showing top 20 rows\n",
      "\n"
     ]
    }
   ],
   "source": [
    "data.show()"
   ]
  },
  {
   "cell_type": "code",
   "execution_count": 61,
   "id": "8029722a",
   "metadata": {},
   "outputs": [],
   "source": [
    "# Split the data into training and testing sets\n",
    "train_data, test_data = data.randomSplit([0.8, 0.2], seed=123)"
   ]
  },
  {
   "cell_type": "code",
   "execution_count": 62,
   "id": "1762c66d",
   "metadata": {},
   "outputs": [
    {
     "name": "stderr",
     "output_type": "stream",
     "text": [
      "23/09/02 07:37:29 WARN MemoryStore: Not enough space to cache rdd_247_5 in memory! (computed 7.8 MiB so far)\n",
      "23/09/02 07:37:29 WARN BlockManager: Persisting block rdd_247_5 to disk instead.\n",
      "23/09/02 07:37:29 WARN MemoryStore: Not enough space to cache rdd_247_4 in memory! (computed 7.8 MiB so far)\n",
      "23/09/02 07:37:29 WARN BlockManager: Persisting block rdd_247_4 to disk instead.\n",
      "23/09/02 07:37:29 WARN MemoryStore: Not enough space to cache rdd_247_2 in memory! (computed 3.4 MiB so far)\n",
      "23/09/02 07:37:29 WARN BlockManager: Persisting block rdd_247_2 to disk instead.\n",
      "23/09/02 07:37:29 WARN MemoryStore: Not enough space to cache rdd_247_6 in memory! (computed 7.8 MiB so far)\n",
      "23/09/02 07:37:29 WARN BlockManager: Persisting block rdd_247_6 to disk instead.\n",
      "23/09/02 07:37:29 WARN MemoryStore: Not enough space to cache rdd_247_3 in memory! (computed 17.6 MiB so far)\n",
      "23/09/02 07:37:29 WARN BlockManager: Persisting block rdd_247_3 to disk instead.\n",
      "23/09/02 07:37:29 WARN MemoryStore: Not enough space to cache rdd_247_1 in memory! (computed 11.7 MiB so far)\n",
      "23/09/02 07:37:29 WARN BlockManager: Persisting block rdd_247_1 to disk instead.\n",
      "23/09/02 07:37:29 WARN MemoryStore: Not enough space to cache rdd_247_0 in memory! (computed 17.6 MiB so far)\n",
      "23/09/02 07:37:29 WARN BlockManager: Persisting block rdd_247_0 to disk instead.\n",
      "23/09/02 07:37:29 WARN MemoryStore: Not enough space to cache rdd_247_7 in memory! (computed 26.6 MiB so far)\n",
      "23/09/02 07:37:29 WARN BlockManager: Persisting block rdd_247_7 to disk instead.\n",
      "23/09/02 07:37:42 WARN MemoryStore: Not enough space to cache rdd_247_19 in memory! (computed 11.7 MiB so far)\n",
      "23/09/02 07:37:42 WARN BlockManager: Persisting block rdd_247_19 to disk instead.\n",
      "23/09/02 07:37:42 WARN MemoryStore: Not enough space to cache rdd_247_21 in memory! (computed 1557.2 KiB so far)\n",
      "23/09/02 07:37:42 WARN BlockManager: Persisting block rdd_247_21 to disk instead.\n",
      "23/09/02 07:37:42 WARN MemoryStore: Not enough space to cache rdd_247_18 in memory! (computed 3.4 MiB so far)\n",
      "23/09/02 07:37:42 WARN BlockManager: Persisting block rdd_247_18 to disk instead.\n",
      "23/09/02 07:37:42 WARN MemoryStore: Not enough space to cache rdd_247_17 in memory! (computed 17.6 MiB so far)\n",
      "23/09/02 07:37:42 WARN BlockManager: Persisting block rdd_247_17 to disk instead.\n",
      "23/09/02 07:37:42 WARN MemoryStore: Not enough space to cache rdd_247_20 in memory! (computed 3.4 MiB so far)\n",
      "23/09/02 07:37:42 WARN BlockManager: Persisting block rdd_247_20 to disk instead.\n",
      "23/09/02 07:37:42 WARN MemoryStore: Not enough space to cache rdd_247_23 in memory! (computed 2.3 MiB so far)\n",
      "23/09/02 07:37:42 WARN BlockManager: Persisting block rdd_247_23 to disk instead.\n",
      "23/09/02 07:37:42 WARN MemoryStore: Not enough space to cache rdd_247_16 in memory! (computed 63.2 MiB so far)\n",
      "23/09/02 07:37:42 WARN BlockManager: Persisting block rdd_247_16 to disk instead.\n",
      "23/09/02 07:37:42 WARN MemoryStore: Not enough space to cache rdd_247_22 in memory! (computed 26.6 MiB so far)\n",
      "23/09/02 07:37:42 WARN BlockManager: Persisting block rdd_247_22 to disk instead.\n",
      "23/09/02 07:37:53 WARN MemoryStore: Not enough space to cache rdd_247_30 in memory! (computed 94.8 MiB so far)\n",
      "23/09/02 07:37:53 WARN BlockManager: Persisting block rdd_247_30 to disk instead.\n",
      "23/09/02 07:37:53 WARN MemoryStore: Failed to reserve initial memory threshold of 1024.0 KiB for computing block rdd_247_35 in memory.\n",
      "23/09/02 07:37:59 WARN MemoryStore: Not enough space to cache rdd_247_33 in memory! (computed 94.8 MiB so far)\n",
      "23/09/02 07:37:59 WARN BlockManager: Persisting block rdd_247_33 to disk instead.\n",
      "23/09/02 07:37:59 WARN MemoryStore: Not enough space to cache rdd_247_32 in memory! (computed 94.8 MiB so far)\n",
      "23/09/02 07:37:59 WARN BlockManager: Persisting block rdd_247_32 to disk instead.\n",
      "23/09/02 07:38:00 WARN MemoryStore: Not enough space to cache rdd_247_35 in memory! (computed 384.0 B so far)\n",
      "23/09/02 07:38:00 WARN BlockManager: Persisting block rdd_247_35 to disk instead.\n",
      "23/09/02 07:38:01 WARN MemoryStore: Not enough space to cache rdd_247_39 in memory! (computed 26.6 MiB so far)\n",
      "23/09/02 07:38:01 WARN BlockManager: Persisting block rdd_247_39 to disk instead.\n",
      "23/09/02 07:38:01 WARN MemoryStore: Not enough space to cache rdd_247_33 in memory! (computed 94.8 MiB so far)\n",
      "23/09/02 07:38:01 WARN MemoryStore: Not enough space to cache rdd_247_37 in memory! (computed 94.8 MiB so far)\n",
      "23/09/02 07:38:01 WARN BlockManager: Persisting block rdd_247_37 to disk instead.\n",
      "23/09/02 07:38:01 WARN MemoryStore: Not enough space to cache rdd_247_36 in memory! (computed 63.2 MiB so far)\n",
      "23/09/02 07:38:01 WARN BlockManager: Persisting block rdd_247_36 to disk instead.\n",
      "23/09/02 07:38:01 WARN MemoryStore: Not enough space to cache rdd_247_32 in memory! (computed 94.8 MiB so far)\n",
      "23/09/02 07:38:04 WARN MemoryStore: Not enough space to cache rdd_247_41 in memory! (computed 17.6 MiB so far)\n",
      "23/09/02 07:38:04 WARN BlockManager: Persisting block rdd_247_41 to disk instead.\n",
      "23/09/02 07:38:05 WARN MemoryStore: Not enough space to cache rdd_247_40 in memory! (computed 41.6 MiB so far)\n",
      "23/09/02 07:38:05 WARN BlockManager: Persisting block rdd_247_40 to disk instead.\n",
      "23/09/02 07:38:07 WARN MemoryStore: Not enough space to cache rdd_247_7 in memory! (computed 41.6 MiB so far)\n",
      "23/09/02 07:38:07 WARN MemoryStore: Not enough space to cache rdd_247_4 in memory! (computed 41.6 MiB so far)\n",
      "23/09/02 07:38:07 WARN MemoryStore: Not enough space to cache rdd_247_3 in memory! (computed 41.6 MiB so far)\n",
      "23/09/02 07:38:07 WARN MemoryStore: Not enough space to cache rdd_247_2 in memory! (computed 41.6 MiB so far)\n",
      "23/09/02 07:38:07 WARN MemoryStore: Not enough space to cache rdd_247_6 in memory! (computed 63.2 MiB so far)\n",
      "23/09/02 07:38:07 WARN MemoryStore: Not enough space to cache rdd_247_1 in memory! (computed 63.2 MiB so far)\n",
      "23/09/02 07:38:07 WARN MemoryStore: Not enough space to cache rdd_247_5 in memory! (computed 63.2 MiB so far)\n",
      "23/09/02 07:38:07 WARN MemoryStore: Not enough space to cache rdd_247_0 in memory! (computed 63.2 MiB so far)\n",
      "23/09/02 07:38:08 WARN MemoryStore: Not enough space to cache rdd_247_10 in memory! (computed 63.2 MiB so far)\n",
      "23/09/02 07:38:08 WARN MemoryStore: Not enough space to cache rdd_247_14 in memory! (computed 26.6 MiB so far)\n",
      "23/09/02 07:38:08 WARN MemoryStore: Not enough space to cache rdd_247_15 in memory! (computed 26.6 MiB so far)\n",
      "23/09/02 07:38:08 WARN MemoryStore: Not enough space to cache rdd_247_9 in memory! (computed 63.2 MiB so far)\n",
      "23/09/02 07:38:08 WARN MemoryStore: Not enough space to cache rdd_247_13 in memory! (computed 41.6 MiB so far)\n",
      "23/09/02 07:38:08 WARN MemoryStore: Not enough space to cache rdd_247_8 in memory! (computed 63.2 MiB so far)\n",
      "23/09/02 07:38:09 WARN MemoryStore: Not enough space to cache rdd_247_12 in memory! (computed 63.2 MiB so far)\n",
      "23/09/02 07:38:09 WARN MemoryStore: Not enough space to cache rdd_247_11 in memory! (computed 63.2 MiB so far)\n",
      "23/09/02 07:38:10 WARN MemoryStore: Not enough space to cache rdd_247_18 in memory! (computed 94.8 MiB so far)\n",
      "23/09/02 07:38:10 WARN MemoryStore: Not enough space to cache rdd_247_17 in memory! (computed 94.8 MiB so far)\n",
      "23/09/02 07:38:10 WARN MemoryStore: Not enough space to cache rdd_247_19 in memory! (computed 63.2 MiB so far)\n",
      "23/09/02 07:38:10 WARN MemoryStore: Not enough space to cache rdd_247_23 in memory! (computed 63.2 MiB so far)\n",
      "23/09/02 07:38:13 WARN MemoryStore: Not enough space to cache rdd_247_7 in memory! (computed 17.6 MiB so far)\n",
      "23/09/02 07:38:13 WARN MemoryStore: Not enough space to cache rdd_247_4 in memory! (computed 17.6 MiB so far)\n",
      "23/09/02 07:38:13 WARN MemoryStore: Not enough space to cache rdd_247_1 in memory! (computed 17.6 MiB so far)\n",
      "23/09/02 07:38:13 WARN MemoryStore: Not enough space to cache rdd_247_5 in memory! (computed 11.7 MiB so far)\n",
      "23/09/02 07:38:13 WARN MemoryStore: Not enough space to cache rdd_247_0 in memory! (computed 17.6 MiB so far)\n",
      "23/09/02 07:38:13 WARN MemoryStore: Not enough space to cache rdd_247_6 in memory! (computed 7.8 MiB so far)\n",
      "23/09/02 07:38:13 WARN MemoryStore: Not enough space to cache rdd_247_3 in memory! (computed 17.6 MiB so far)\n",
      "23/09/02 07:38:13 WARN MemoryStore: Not enough space to cache rdd_247_2 in memory! (computed 17.6 MiB so far)\n"
     ]
    },
    {
     "name": "stderr",
     "output_type": "stream",
     "text": [
      "23/09/02 07:38:15 WARN MemoryStore: Not enough space to cache rdd_247_11 in memory! (computed 17.6 MiB so far)\n",
      "23/09/02 07:38:15 WARN MemoryStore: Not enough space to cache rdd_247_8 in memory! (computed 17.6 MiB so far)\n",
      "23/09/02 07:38:15 WARN MemoryStore: Not enough space to cache rdd_247_10 in memory! (computed 17.6 MiB so far)\n",
      "23/09/02 07:38:15 WARN MemoryStore: Not enough space to cache rdd_247_14 in memory! (computed 7.8 MiB so far)\n",
      "23/09/02 07:38:15 WARN MemoryStore: Not enough space to cache rdd_247_13 in memory! (computed 11.7 MiB so far)\n",
      "23/09/02 07:38:15 WARN MemoryStore: Not enough space to cache rdd_247_12 in memory! (computed 17.6 MiB so far)\n",
      "23/09/02 07:38:15 WARN MemoryStore: Not enough space to cache rdd_247_9 in memory! (computed 26.6 MiB so far)\n",
      "23/09/02 07:38:15 WARN MemoryStore: Not enough space to cache rdd_247_15 in memory! (computed 7.8 MiB so far)\n",
      "23/09/02 07:38:16 WARN MemoryStore: Not enough space to cache rdd_247_17 in memory! (computed 41.6 MiB so far)\n",
      "23/09/02 07:38:16 WARN MemoryStore: Not enough space to cache rdd_247_23 in memory! (computed 5.2 MiB so far)\n",
      "23/09/02 07:38:16 WARN MemoryStore: Not enough space to cache rdd_247_18 in memory! (computed 41.6 MiB so far)\n",
      "23/09/02 07:38:16 WARN MemoryStore: Not enough space to cache rdd_247_19 in memory! (computed 41.6 MiB so far)\n",
      "23/09/02 07:38:20 WARN MemoryStore: Not enough space to cache rdd_247_1 in memory! (computed 11.7 MiB so far)\n",
      "23/09/02 07:38:20 WARN MemoryStore: Not enough space to cache rdd_247_5 in memory! (computed 11.7 MiB so far)\n",
      "23/09/02 07:38:20 WARN MemoryStore: Not enough space to cache rdd_247_4 in memory! (computed 11.7 MiB so far)\n",
      "23/09/02 07:38:20 WARN MemoryStore: Not enough space to cache rdd_247_7 in memory! (computed 17.6 MiB so far)\n",
      "23/09/02 07:38:20 WARN MemoryStore: Not enough space to cache rdd_247_6 in memory! (computed 17.6 MiB so far)\n",
      "23/09/02 07:38:20 WARN MemoryStore: Not enough space to cache rdd_247_0 in memory! (computed 17.6 MiB so far)\n",
      "23/09/02 07:38:20 WARN MemoryStore: Not enough space to cache rdd_247_3 in memory! (computed 17.6 MiB so far)\n",
      "23/09/02 07:38:20 WARN MemoryStore: Not enough space to cache rdd_247_2 in memory! (computed 17.6 MiB so far)\n",
      "23/09/02 07:38:21 WARN MemoryStore: Not enough space to cache rdd_247_10 in memory! (computed 17.6 MiB so far)\n",
      "23/09/02 07:38:21 WARN MemoryStore: Not enough space to cache rdd_247_13 in memory! (computed 11.7 MiB so far)\n",
      "23/09/02 07:38:21 WARN MemoryStore: Not enough space to cache rdd_247_9 in memory! (computed 11.7 MiB so far)\n",
      "23/09/02 07:38:21 WARN MemoryStore: Not enough space to cache rdd_247_12 in memory! (computed 17.6 MiB so far)\n",
      "23/09/02 07:38:21 WARN MemoryStore: Not enough space to cache rdd_247_11 in memory! (computed 11.7 MiB so far)\n",
      "23/09/02 07:38:21 WARN MemoryStore: Not enough space to cache rdd_247_15 in memory! (computed 11.7 MiB so far)\n",
      "23/09/02 07:38:21 WARN MemoryStore: Not enough space to cache rdd_247_14 in memory! (computed 11.7 MiB so far)\n",
      "23/09/02 07:38:21 WARN MemoryStore: Not enough space to cache rdd_247_8 in memory! (computed 26.6 MiB so far)\n",
      "23/09/02 07:38:23 WARN MemoryStore: Not enough space to cache rdd_247_19 in memory! (computed 26.6 MiB so far)\n",
      "23/09/02 07:38:23 WARN MemoryStore: Not enough space to cache rdd_247_18 in memory! (computed 41.6 MiB so far)\n",
      "23/09/02 07:38:23 WARN MemoryStore: Not enough space to cache rdd_247_17 in memory! (computed 41.6 MiB so far)\n",
      "23/09/02 07:38:23 WARN MemoryStore: Not enough space to cache rdd_247_23 in memory! (computed 17.6 MiB so far)\n",
      "23/09/02 07:38:26 WARN MemoryStore: Not enough space to cache rdd_247_3 in memory! (computed 11.7 MiB so far)\n",
      "23/09/02 07:38:26 WARN MemoryStore: Not enough space to cache rdd_247_2 in memory! (computed 17.6 MiB so far)\n",
      "23/09/02 07:38:26 WARN MemoryStore: Not enough space to cache rdd_247_6 in memory! (computed 17.6 MiB so far)\n",
      "23/09/02 07:38:26 WARN MemoryStore: Not enough space to cache rdd_247_1 in memory! (computed 17.6 MiB so far)\n",
      "23/09/02 07:38:26 WARN MemoryStore: Not enough space to cache rdd_247_0 in memory! (computed 17.6 MiB so far)\n",
      "23/09/02 07:38:26 WARN MemoryStore: Not enough space to cache rdd_247_4 in memory! (computed 11.7 MiB so far)\n",
      "23/09/02 07:38:26 WARN MemoryStore: Not enough space to cache rdd_247_5 in memory! (computed 11.7 MiB so far)\n",
      "23/09/02 07:38:26 WARN MemoryStore: Not enough space to cache rdd_247_7 in memory! (computed 17.6 MiB so far)\n",
      "23/09/02 07:38:27 WARN MemoryStore: Not enough space to cache rdd_247_9 in memory! (computed 26.6 MiB so far)\n",
      "23/09/02 07:38:27 WARN MemoryStore: Not enough space to cache rdd_247_12 in memory! (computed 7.8 MiB so far)\n",
      "23/09/02 07:38:27 WARN MemoryStore: Not enough space to cache rdd_247_13 in memory! (computed 7.8 MiB so far)\n",
      "23/09/02 07:38:27 WARN MemoryStore: Not enough space to cache rdd_247_8 in memory! (computed 41.6 MiB so far)\n",
      "23/09/02 07:38:27 WARN MemoryStore: Not enough space to cache rdd_247_14 in memory! (computed 5.2 MiB so far)\n",
      "23/09/02 07:38:27 WARN MemoryStore: Not enough space to cache rdd_247_10 in memory! (computed 17.6 MiB so far)\n",
      "23/09/02 07:38:27 WARN MemoryStore: Not enough space to cache rdd_247_15 in memory! (computed 2.3 MiB so far)\n",
      "23/09/02 07:38:27 WARN MemoryStore: Not enough space to cache rdd_247_11 in memory! (computed 17.6 MiB so far)\n",
      "23/09/02 07:38:29 WARN MemoryStore: Not enough space to cache rdd_247_17 in memory! (computed 41.6 MiB so far)\n",
      "23/09/02 07:38:29 WARN MemoryStore: Not enough space to cache rdd_247_18 in memory! (computed 41.6 MiB so far)\n",
      "23/09/02 07:38:29 WARN MemoryStore: Not enough space to cache rdd_247_19 in memory! (computed 26.6 MiB so far)\n",
      "23/09/02 07:38:29 WARN MemoryStore: Not enough space to cache rdd_247_23 in memory! (computed 17.6 MiB so far)\n",
      "                                                                                \r"
     ]
    }
   ],
   "source": [
    "# Train a Random Forest classifier\n",
    "rf = RandomForestClassifier(labelCol=\"event_type_index\", featuresCol=\"features\", numTrees=10)\n",
    "model = rf.fit(train_data)"
   ]
  },
  {
   "cell_type": "code",
   "execution_count": 63,
   "id": "47b9e9ff",
   "metadata": {},
   "outputs": [],
   "source": [
    "# Make predictions on the test data\n",
    "predictions = model.transform(test_data)"
   ]
  },
  {
   "cell_type": "code",
   "execution_count": 65,
   "id": "abad48cc",
   "metadata": {},
   "outputs": [
    {
     "name": "stderr",
     "output_type": "stream",
     "text": [
      "[Stage 83:=====================================================>  (41 + 2) / 43]\r"
     ]
    },
    {
     "name": "stdout",
     "output_type": "stream",
     "text": [
      "Accuracy: 0.9561969352836949\n"
     ]
    },
    {
     "name": "stderr",
     "output_type": "stream",
     "text": [
      "\r",
      "[Stage 83:======================================================> (42 + 1) / 43]\r",
      "\r",
      "                                                                                \r"
     ]
    }
   ],
   "source": [
    "# Evaluate the model\n",
    "evaluator = MulticlassClassificationEvaluator(labelCol=\"event_type_index\", predictionCol=\"prediction\", metricName=\"accuracy\")\n",
    "accuracy = evaluator.evaluate(predictions)\n",
    "print(\"Accuracy:\", accuracy)"
   ]
  },
  {
   "cell_type": "code",
   "execution_count": 67,
   "id": "d347e666",
   "metadata": {},
   "outputs": [
    {
     "name": "stderr",
     "output_type": "stream",
     "text": [
      "/opt/homebrew/Caskroom/miniconda/base/envs/spark/lib/python3.9/site-packages/pyspark/sql/context.py:157: FutureWarning: Deprecated in 3.0.0. Use SparkSession.builder.getOrCreate() instead.\n",
      "  warnings.warn(\n",
      "                                                                                \r"
     ]
    }
   ],
   "source": [
    "metrics = metrics = MulticlassMetrics(predictions.select(\"prediction\", \"event_type_index\").rdd)\n",
    "confusion_matrix = metrics.confusionMatrix()"
   ]
  },
  {
   "cell_type": "code",
   "execution_count": 68,
   "id": "6a5e2275",
   "metadata": {},
   "outputs": [
    {
     "data": {
      "text/plain": [
       "DenseMatrix(3, 3, [6950214.0, 181049.0, 137338.0, 0.0, 0.0, 0.0, 0.0, 0.0, 0.0], 0)"
      ]
     },
     "execution_count": 68,
     "metadata": {},
     "output_type": "execute_result"
    }
   ],
   "source": [
    "confusion_matrix"
   ]
  },
  {
   "cell_type": "code",
   "execution_count": 69,
   "id": "2d34d781",
   "metadata": {},
   "outputs": [
    {
     "ename": "NameError",
     "evalue": "name 'plt' is not defined",
     "output_type": "error",
     "traceback": [
      "\u001b[0;31m---------------------------------------------------------------------------\u001b[0m",
      "\u001b[0;31mNameError\u001b[0m                                 Traceback (most recent call last)",
      "Cell \u001b[0;32mIn[69], line 2\u001b[0m\n\u001b[1;32m      1\u001b[0m \u001b[38;5;66;03m# Create a heatmap of the confusion matrix\u001b[39;00m\n\u001b[0;32m----> 2\u001b[0m \u001b[43mplt\u001b[49m\u001b[38;5;241m.\u001b[39mfigure(figsize\u001b[38;5;241m=\u001b[39m(\u001b[38;5;241m8\u001b[39m, \u001b[38;5;241m6\u001b[39m))\n\u001b[1;32m      3\u001b[0m sns\u001b[38;5;241m.\u001b[39mheatmap(confusion_matrix, annot\u001b[38;5;241m=\u001b[39m\u001b[38;5;28;01mTrue\u001b[39;00m, fmt\u001b[38;5;241m=\u001b[39m\u001b[38;5;124m'\u001b[39m\u001b[38;5;124md\u001b[39m\u001b[38;5;124m'\u001b[39m, cmap\u001b[38;5;241m=\u001b[39m\u001b[38;5;124m'\u001b[39m\u001b[38;5;124mBlues\u001b[39m\u001b[38;5;124m'\u001b[39m, )\n\u001b[1;32m      4\u001b[0m plt\u001b[38;5;241m.\u001b[39mxlabel(\u001b[38;5;124m'\u001b[39m\u001b[38;5;124mPredicted\u001b[39m\u001b[38;5;124m'\u001b[39m)\n",
      "\u001b[0;31mNameError\u001b[0m: name 'plt' is not defined"
     ]
    }
   ],
   "source": [
    "# Create a heatmap of the confusion matrix\n",
    "plt.figure(figsize=(8, 6))\n",
    "sns.heatmap(confusion_matrix, annot=True, fmt='d', cmap='Blues', )\n",
    "plt.xlabel('Predicted')\n",
    "plt.ylabel('Actual')\n",
    "plt.title('Confusion Matrix')\n",
    "plt.show()"
   ]
  }
 ],
 "metadata": {
  "kernelspec": {
   "display_name": "Python 3 (ipykernel)",
   "language": "python",
   "name": "python3"
  },
  "language_info": {
   "codemirror_mode": {
    "name": "ipython",
    "version": 3
   },
   "file_extension": ".py",
   "mimetype": "text/x-python",
   "name": "python",
   "nbconvert_exporter": "python",
   "pygments_lexer": "ipython3",
   "version": "3.9.17"
  }
 },
 "nbformat": 4,
 "nbformat_minor": 5
}
