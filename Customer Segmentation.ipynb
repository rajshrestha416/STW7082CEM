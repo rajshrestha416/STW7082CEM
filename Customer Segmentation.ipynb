{
 "cells": [
  {
   "cell_type": "code",
   "execution_count": 1,
   "id": "444b7eff",
   "metadata": {},
   "outputs": [],
   "source": [
    "from pyspark.sql import SparkSession\n",
    "from pyspark.ml.clustering import KMeans\n",
    "from pyspark.ml.feature import VectorAssembler\n",
    "from pyspark.sql.functions import *\n",
    "import matplotlib.pyplot as plt\n",
    "from pyspark.ml.evaluation import ClusteringEvaluator"
   ]
  },
  {
   "cell_type": "code",
   "execution_count": 2,
   "id": "5c2214c7",
   "metadata": {},
   "outputs": [
    {
     "name": "stderr",
     "output_type": "stream",
     "text": [
      "Setting default log level to \"WARN\".\n",
      "To adjust logging level use sc.setLogLevel(newLevel). For SparkR, use setLogLevel(newLevel).\n",
      "23/09/02 20:08:33 WARN NativeCodeLoader: Unable to load native-hadoop library for your platform... using builtin-java classes where applicable\n",
      "23/09/02 20:08:33 WARN Utils: Service 'SparkUI' could not bind on port 4040. Attempting port 4041.\n",
      "23/09/02 20:08:33 WARN Utils: Service 'SparkUI' could not bind on port 4041. Attempting port 4042.\n"
     ]
    }
   ],
   "source": [
    "spark=SparkSession.builder.appName(\"CustomerSegmentation\") \\\n",
    ".config (\"spark.sql.shuffle.partitions\", \"16\") \\\n",
    ".config(\"spark.driver.maxResultSize\",\"4g\") \\\n",
    ".config (\"spark.sql.execution.arrow.pyspark.enabled\", \"true\") \\\n",
    ".config(\"spark.sql.legacy.timeParserPolicy\", \"LEGACY\") \\\n",
    ".config(\"spark.driver.memory\", \"4g\") \\\n",
    ".config(\"spark.executor.cores\", \"4\") \\\n",
    ".getOrCreate()\n",
    "\n",
    "spark.sparkContext.setLogLevel(\"WARN\")"
   ]
  },
  {
   "cell_type": "code",
   "execution_count": 3,
   "id": "fd6430bb",
   "metadata": {},
   "outputs": [],
   "source": [
    "df = spark.read.csv(\"ecomerce.csv\", header=True)"
   ]
  },
  {
   "cell_type": "code",
   "execution_count": 4,
   "id": "284ac6c9",
   "metadata": {},
   "outputs": [
    {
     "name": "stdout",
     "output_type": "stream",
     "text": [
      "+--------------------+----------+----------+-------------------+--------------------+--------+-------+---------+--------------------+\n",
      "|          event_time|event_type|product_id|        category_id|       category_code|   brand|  price|  user_id|        user_session|\n",
      "+--------------------+----------+----------+-------------------+--------------------+--------+-------+---------+--------------------+\n",
      "|2019-10-01 00:00:...|      view|  44600062|2103807459595387724|                null|shiseido|  35.79|541312140|72d76fde-8bb3-4e0...|\n",
      "|2019-10-01 00:00:...|      view|   3900821|2053013552326770905|appliances.enviro...|    aqua|  33.20|554748717|9333dfbd-b87a-470...|\n",
      "|2019-10-01 00:00:...|      view|  17200506|2053013559792632471|furniture.living_...|    null| 543.10|519107250|566511c2-e2e3-422...|\n",
      "|2019-10-01 00:00:...|      view|   1307067|2053013558920217191|  computers.notebook|  lenovo| 251.74|550050854|7c90fc70-0e80-459...|\n",
      "|2019-10-01 00:00:...|      view|   1004237|2053013555631882655|electronics.smart...|   apple|1081.98|535871217|c6bd7419-2748-4c5...|\n",
      "|2019-10-01 00:00:...|      view|   1480613|2053013561092866779|   computers.desktop|  pulser| 908.62|512742880|0d0d91c2-c9c2-4e8...|\n",
      "|2019-10-01 00:00:...|      view|  17300353|2053013553853497655|                null|   creed| 380.96|555447699|4fe811e9-91de-46d...|\n",
      "|2019-10-01 00:00:...|      view|  31500053|2053013558031024687|                null|luminarc|  41.16|550978835|6280d577-25c8-414...|\n",
      "|2019-10-01 00:00:...|      view|  28719074|2053013565480109009|  apparel.shoes.keds|   baden| 102.71|520571932|ac1cd4e5-a3ce-422...|\n",
      "|2019-10-01 00:00:...|      view|   1004545|2053013555631882655|electronics.smart...|  huawei| 566.01|537918940|406c46ed-90a4-478...|\n",
      "|2019-10-01 00:00:...|      view|   2900536|2053013554776244595|appliances.kitche...|elenberg|  51.46|555158050|b5bdd0b3-4ca2-4c5...|\n",
      "|2019-10-01 00:00:...|      view|   1005011|2053013555631882655|electronics.smart...| samsung| 900.64|530282093|50a293fb-5940-41b...|\n",
      "|2019-10-01 00:00:...|      view|   3900746|2053013552326770905|appliances.enviro...|   haier| 102.38|555444559|98b88fa0-d8fa-4b9...|\n",
      "|2019-10-01 00:00:...|      view|  44600062|2103807459595387724|                null|shiseido|  35.79|541312140|72d76fde-8bb3-4e0...|\n",
      "|2019-10-01 00:00:...|      view|  13500240|2053013557099889147|furniture.bedroom...|     brw|  93.18|555446365|7f0062d8-ead0-4e0...|\n",
      "|2019-10-01 00:00:...|      view|  23100006|2053013561638126333|                null|    null| 357.79|513642368|17566c27-0a8f-450...|\n",
      "|2019-10-01 00:00:...|      view|   1801995|2053013554415534427|electronics.video.tv|   haier| 193.03|537192226|e3151795-c355-4ef...|\n",
      "|2019-10-01 00:00:...|      view|  10900029|2053013555069845885|appliances.kitche...|   bosch|  58.95|519528062|901b9e3c-3f8f-414...|\n",
      "|2019-10-01 00:00:...|      view|   1306631|2053013558920217191|  computers.notebook|      hp| 580.89|550050854|7c90fc70-0e80-459...|\n",
      "|2019-10-01 00:00:...|      view|   1005135|2053013555631882655|electronics.smart...|   apple|1747.79|535871217|c6bd7419-2748-4c5...|\n",
      "+--------------------+----------+----------+-------------------+--------------------+--------+-------+---------+--------------------+\n",
      "only showing top 20 rows\n",
      "\n"
     ]
    }
   ],
   "source": [
    "df.show()"
   ]
  },
  {
   "cell_type": "code",
   "execution_count": 5,
   "id": "43755baa",
   "metadata": {},
   "outputs": [],
   "source": [
    "df = df.withColumn(\"year\", year(\"event_time\"))\n",
    "df = df.withColumn(\"month\", month(\"event_time\"))\n",
    "df = df.withColumn(\"day\", dayofmonth(\"event_time\"))\n",
    "df = df.withColumn(\"day_of_week\", dayofweek(\"event_time\"))\n",
    "df = df.withColumn(\"hour\", hour(\"event_time\"))"
   ]
  },
  {
   "cell_type": "code",
   "execution_count": 6,
   "id": "4ef3c1ab",
   "metadata": {},
   "outputs": [],
   "source": [
    "# User Behaviour Features:\n",
    "user_behavior_features = df.groupBy(\"user_id\").agg(\n",
    "    count(\"event_type\").alias(\"total_events\"),\n",
    "    count(\"product_id\").alias(\"total_products_viewed\"),\n",
    ")"
   ]
  },
  {
   "cell_type": "code",
   "execution_count": 7,
   "id": "9e56e91f",
   "metadata": {},
   "outputs": [
    {
     "name": "stderr",
     "output_type": "stream",
     "text": [
      "[Stage 2:======================================================>  (41 + 2) / 43]\r"
     ]
    },
    {
     "name": "stdout",
     "output_type": "stream",
     "text": [
      "+---------+------------+---------------------+\n",
      "|  user_id|total_events|total_products_viewed|\n",
      "+---------+------------+---------------------+\n",
      "|519107250|          21|                   21|\n",
      "|519528062|           8|                    8|\n",
      "|525734504|         158|                  158|\n",
      "|543427258|           3|                    3|\n",
      "|531646433|          47|                   47|\n",
      "|515755304|           8|                    8|\n",
      "|552552067|          30|                   30|\n",
      "|522806189|          21|                   21|\n",
      "|518471395|          55|                   55|\n",
      "|515547943|          17|                   17|\n",
      "|519829701|           8|                    8|\n",
      "|519194796|          29|                   29|\n",
      "|520775875|          39|                   39|\n",
      "|513173999|          11|                   11|\n",
      "|537858238|           1|                    1|\n",
      "|555448105|          18|                   18|\n",
      "|554255295|           6|                    6|\n",
      "|554935393|           9|                    9|\n",
      "|545196189|         125|                  125|\n",
      "|544413201|           1|                    1|\n",
      "+---------+------------+---------------------+\n",
      "only showing top 20 rows\n",
      "\n"
     ]
    },
    {
     "name": "stderr",
     "output_type": "stream",
     "text": [
      "\r",
      "                                                                                \r"
     ]
    }
   ],
   "source": [
    "user_behavior_features.show()"
   ]
  },
  {
   "cell_type": "code",
   "execution_count": 8,
   "id": "2614bdf7",
   "metadata": {},
   "outputs": [],
   "source": [
    "# Extract top-level category\n",
    "df = df.withColumn(\"category\", split(\"category_code\", \"\\.\")[0])  "
   ]
  },
  {
   "cell_type": "code",
   "execution_count": 9,
   "id": "8909d4b2",
   "metadata": {},
   "outputs": [
    {
     "name": "stdout",
     "output_type": "stream",
     "text": [
      "+--------------------+----------+----------+-------------------+--------------------+--------+-------+---------+--------------------+----+-----+---+-----------+----+-----------+\n",
      "|          event_time|event_type|product_id|        category_id|       category_code|   brand|  price|  user_id|        user_session|year|month|day|day_of_week|hour|   category|\n",
      "+--------------------+----------+----------+-------------------+--------------------+--------+-------+---------+--------------------+----+-----+---+-----------+----+-----------+\n",
      "|2019-10-01 00:00:...|      view|  44600062|2103807459595387724|                null|shiseido|  35.79|541312140|72d76fde-8bb3-4e0...|2019|   10|  1|          3|   5|       null|\n",
      "|2019-10-01 00:00:...|      view|   3900821|2053013552326770905|appliances.enviro...|    aqua|  33.20|554748717|9333dfbd-b87a-470...|2019|   10|  1|          3|   5| appliances|\n",
      "|2019-10-01 00:00:...|      view|  17200506|2053013559792632471|furniture.living_...|    null| 543.10|519107250|566511c2-e2e3-422...|2019|   10|  1|          3|   5|  furniture|\n",
      "|2019-10-01 00:00:...|      view|   1307067|2053013558920217191|  computers.notebook|  lenovo| 251.74|550050854|7c90fc70-0e80-459...|2019|   10|  1|          3|   5|  computers|\n",
      "|2019-10-01 00:00:...|      view|   1004237|2053013555631882655|electronics.smart...|   apple|1081.98|535871217|c6bd7419-2748-4c5...|2019|   10|  1|          3|   5|electronics|\n",
      "|2019-10-01 00:00:...|      view|   1480613|2053013561092866779|   computers.desktop|  pulser| 908.62|512742880|0d0d91c2-c9c2-4e8...|2019|   10|  1|          3|   5|  computers|\n",
      "|2019-10-01 00:00:...|      view|  17300353|2053013553853497655|                null|   creed| 380.96|555447699|4fe811e9-91de-46d...|2019|   10|  1|          3|   5|       null|\n",
      "|2019-10-01 00:00:...|      view|  31500053|2053013558031024687|                null|luminarc|  41.16|550978835|6280d577-25c8-414...|2019|   10|  1|          3|   5|       null|\n",
      "|2019-10-01 00:00:...|      view|  28719074|2053013565480109009|  apparel.shoes.keds|   baden| 102.71|520571932|ac1cd4e5-a3ce-422...|2019|   10|  1|          3|   5|    apparel|\n",
      "|2019-10-01 00:00:...|      view|   1004545|2053013555631882655|electronics.smart...|  huawei| 566.01|537918940|406c46ed-90a4-478...|2019|   10|  1|          3|   5|electronics|\n",
      "|2019-10-01 00:00:...|      view|   2900536|2053013554776244595|appliances.kitche...|elenberg|  51.46|555158050|b5bdd0b3-4ca2-4c5...|2019|   10|  1|          3|   5| appliances|\n",
      "|2019-10-01 00:00:...|      view|   1005011|2053013555631882655|electronics.smart...| samsung| 900.64|530282093|50a293fb-5940-41b...|2019|   10|  1|          3|   5|electronics|\n",
      "|2019-10-01 00:00:...|      view|   3900746|2053013552326770905|appliances.enviro...|   haier| 102.38|555444559|98b88fa0-d8fa-4b9...|2019|   10|  1|          3|   5| appliances|\n",
      "|2019-10-01 00:00:...|      view|  44600062|2103807459595387724|                null|shiseido|  35.79|541312140|72d76fde-8bb3-4e0...|2019|   10|  1|          3|   5|       null|\n",
      "|2019-10-01 00:00:...|      view|  13500240|2053013557099889147|furniture.bedroom...|     brw|  93.18|555446365|7f0062d8-ead0-4e0...|2019|   10|  1|          3|   5|  furniture|\n",
      "|2019-10-01 00:00:...|      view|  23100006|2053013561638126333|                null|    null| 357.79|513642368|17566c27-0a8f-450...|2019|   10|  1|          3|   5|       null|\n",
      "|2019-10-01 00:00:...|      view|   1801995|2053013554415534427|electronics.video.tv|   haier| 193.03|537192226|e3151795-c355-4ef...|2019|   10|  1|          3|   5|electronics|\n",
      "|2019-10-01 00:00:...|      view|  10900029|2053013555069845885|appliances.kitche...|   bosch|  58.95|519528062|901b9e3c-3f8f-414...|2019|   10|  1|          3|   5| appliances|\n",
      "|2019-10-01 00:00:...|      view|   1306631|2053013558920217191|  computers.notebook|      hp| 580.89|550050854|7c90fc70-0e80-459...|2019|   10|  1|          3|   5|  computers|\n",
      "|2019-10-01 00:00:...|      view|   1005135|2053013555631882655|electronics.smart...|   apple|1747.79|535871217|c6bd7419-2748-4c5...|2019|   10|  1|          3|   5|electronics|\n",
      "+--------------------+----------+----------+-------------------+--------------------+--------+-------+---------+--------------------+----+-----+---+-----------+----+-----------+\n",
      "only showing top 20 rows\n",
      "\n"
     ]
    }
   ],
   "source": [
    "df.show()"
   ]
  },
  {
   "cell_type": "code",
   "execution_count": 10,
   "id": "7d6eb066",
   "metadata": {
    "scrolled": true
   },
   "outputs": [
    {
     "name": "stderr",
     "output_type": "stream",
     "text": [
      "[Stage 6:======================================================>  (41 + 2) / 43]\r"
     ]
    },
    {
     "name": "stdout",
     "output_type": "stream",
     "text": [
      "+----------+----------+----------+-----------+-------------+-------+-----+-------+------------+----+-----+---+-----------+----+--------+\n",
      "|event_time|event_type|product_id|category_id|category_code|  brand|price|user_id|user_session|year|month|day|day_of_week|hour|category|\n",
      "+----------+----------+----------+-----------+-------------+-------+-----+-------+------------+----+-----+---+-----------+----+--------+\n",
      "|         0|         0|         0|          0|     13515609|6113008|    0|      0|           2|   0|    0|  0|          0|   0|13515609|\n",
      "+----------+----------+----------+-----------+-------------+-------+-----+-------+------------+----+-----+---+-----------+----+--------+\n",
      "\n"
     ]
    },
    {
     "name": "stderr",
     "output_type": "stream",
     "text": [
      "\r",
      "[Stage 6:=======================================================> (42 + 1) / 43]\r",
      "\r",
      "                                                                                \r"
     ]
    }
   ],
   "source": [
    "#null values\n",
    "df.select([count(when(isnull(c), c)).alias(c) for c in df.columns]).show()"
   ]
  },
  {
   "cell_type": "code",
   "execution_count": 11,
   "id": "9595ef4d",
   "metadata": {},
   "outputs": [],
   "source": [
    "df = df.na.drop(subset=[\"brand\", \"category\"])\n"
   ]
  },
  {
   "cell_type": "code",
   "execution_count": 12,
   "id": "f878147c",
   "metadata": {},
   "outputs": [
    {
     "name": "stderr",
     "output_type": "stream",
     "text": [
      "[Stage 9:======================================================>  (41 + 2) / 43]\r"
     ]
    },
    {
     "name": "stdout",
     "output_type": "stream",
     "text": [
      "+----------+----------+----------+-----------+-------------+-----+-----+-------+------------+----+-----+---+-----------+----+--------+\n",
      "|event_time|event_type|product_id|category_id|category_code|brand|price|user_id|user_session|year|month|day|day_of_week|hour|category|\n",
      "+----------+----------+----------+-----------+-------------+-----+-----+-------+------------+----+-----+---+-----------+----+--------+\n",
      "|         0|         0|         0|          0|            0|    0|    0|      0|           2|   0|    0|  0|          0|   0|       0|\n",
      "+----------+----------+----------+-----------+-------------+-----+-----+-------+------------+----+-----+---+-----------+----+--------+\n",
      "\n"
     ]
    },
    {
     "name": "stderr",
     "output_type": "stream",
     "text": [
      "\r",
      "[Stage 9:=======================================================> (42 + 1) / 43]\r",
      "\r",
      "                                                                                \r"
     ]
    }
   ],
   "source": [
    "#null values\n",
    "df.select([count(when(isnull(c), c)).alias(c) for c in df.columns]).show()"
   ]
  },
  {
   "cell_type": "code",
   "execution_count": 13,
   "id": "f936f0dc",
   "metadata": {},
   "outputs": [],
   "source": [
    "df_features = df.groupBy(\"user_id\").agg(\n",
    "    avg(\"price\").alias(\"avg_price\"),\n",
    "    sum(\"price\").alias(\"total_spent\"),\n",
    "#     count(\"event_type\").alias(\"total_events\"),\n",
    "#     count(\"product_id\").alias(\"total_products_viewed\"),\n",
    ")"
   ]
  },
  {
   "cell_type": "code",
   "execution_count": 14,
   "id": "44f32bd0",
   "metadata": {},
   "outputs": [
    {
     "name": "stderr",
     "output_type": "stream",
     "text": [
      "[Stage 12:=====================================================>  (41 + 2) / 43]\r"
     ]
    },
    {
     "name": "stdout",
     "output_type": "stream",
     "text": [
      "+---------+------------------+------------------+\n",
      "|  user_id|         avg_price|       total_spent|\n",
      "+---------+------------------+------------------+\n",
      "|563459593|1022.3776461538464|1993636.4100000004|\n",
      "|512365995| 375.5269006289307|1492719.4299999997|\n",
      "|561163588|1005.2567728531858|1451590.7800000003|\n",
      "|545925192| 913.4229941434852|1247735.8100000008|\n",
      "|512845454| 820.0875062761506|         980004.57|\n",
      "|519267944|1432.4160117302054| 976907.7200000001|\n",
      "|513900355| 888.3164456721917| 964711.6600000001|\n",
      "|513117637|1337.4143567251465| 914791.4200000003|\n",
      "|518692140| 905.2454273944386| 878993.3099999998|\n",
      "|515384420|1721.9940000000001|         817947.15|\n",
      "|516253278|  614.900165413534| 817817.2200000001|\n",
      "|540323874|1002.1434362934361| 778665.4499999998|\n",
      "|513185778|  951.370233128834| 775366.7399999998|\n",
      "|545614761|  839.036499442587| 752615.7400000006|\n",
      "|512475445|119.15782723812677| 720070.7500000001|\n",
      "|515565608| 561.4275078369907| 716381.5000000001|\n",
      "|517403657|1144.9083333333328| 714422.7999999997|\n",
      "|512707659|1080.4785518292683|         708793.93|\n",
      "|530834332|1031.6818340611355|         708765.42|\n",
      "|553006057| 1558.862577092511|         707723.61|\n",
      "+---------+------------------+------------------+\n",
      "only showing top 20 rows\n",
      "\n"
     ]
    },
    {
     "name": "stderr",
     "output_type": "stream",
     "text": [
      "\r",
      "                                                                                \r"
     ]
    }
   ],
   "source": [
    "df_features = df_features.orderBy(col(\"total_spent\").desc())\n",
    "df_features = df_features.limit(500)\n",
    "df_features.show()"
   ]
  },
  {
   "cell_type": "code",
   "execution_count": 16,
   "id": "9f592ca1",
   "metadata": {},
   "outputs": [],
   "source": [
    "feature_columns = [\"avg_price\", \"total_spent\"]\n",
    "assembler = VectorAssembler(inputCols=feature_columns, outputCol=\"features\")\n",
    "df_features = assembler.transform(df_features)"
   ]
  },
  {
   "cell_type": "code",
   "execution_count": 17,
   "id": "76531c68",
   "metadata": {},
   "outputs": [
    {
     "name": "stderr",
     "output_type": "stream",
     "text": [
      "23/09/02 20:10:21 WARN InstanceBuilder: Failed to load implementation from:dev.ludovic.netlib.blas.JNIBLAS\n",
      "                                                                                \r"
     ]
    }
   ],
   "source": [
    "k = 5  \n",
    "kmeans = KMeans(k=k, seed=1)\n",
    "model = kmeans.fit(df_features)"
   ]
  },
  {
   "cell_type": "code",
   "execution_count": 18,
   "id": "2e837d71",
   "metadata": {},
   "outputs": [],
   "source": [
    "# Add cluster labels to the DataFrame\n",
    "df_features = model.transform(df_features)"
   ]
  },
  {
   "cell_type": "code",
   "execution_count": 19,
   "id": "78313f0d",
   "metadata": {},
   "outputs": [
    {
     "name": "stderr",
     "output_type": "stream",
     "text": [
      "[Stage 66:=====================================================>  (41 + 2) / 43]\r"
     ]
    },
    {
     "name": "stdout",
     "output_type": "stream",
     "text": [
      "+---------+--------------------+----------+\n",
      "|  user_id|            features|prediction|\n",
      "+---------+--------------------+----------+\n",
      "|563459593|[1022.37764615384...|         1|\n",
      "|512365995|[375.526900628930...|         1|\n",
      "|561163588|[1005.25677285318...|         1|\n",
      "|545925192|[913.422994143485...|         1|\n",
      "|512845454|[820.087506276150...|         4|\n",
      "|519267944|[1432.41601173020...|         4|\n",
      "|513900355|[888.316445672191...|         4|\n",
      "|513117637|[1337.41435672514...|         4|\n",
      "|518692140|[905.245427394438...|         4|\n",
      "|515384420|[1721.99400000000...|         4|\n",
      "|516253278|[614.900165413534...|         4|\n",
      "|540323874|[1002.14343629343...|         4|\n",
      "|513185778|[951.370233128834...|         4|\n",
      "|545614761|[839.036499442587...|         4|\n",
      "|512475445|[119.157827238126...|         2|\n",
      "|515565608|[561.427507836990...|         2|\n",
      "|517403657|[1144.90833333333...|         2|\n",
      "|512707659|[1080.47855182926...|         2|\n",
      "|530834332|[1031.68183406113...|         2|\n",
      "|553006057|[1558.86257709251...|         2|\n",
      "+---------+--------------------+----------+\n",
      "only showing top 20 rows\n",
      "\n"
     ]
    },
    {
     "name": "stderr",
     "output_type": "stream",
     "text": [
      "\r",
      "                                                                                \r"
     ]
    }
   ],
   "source": [
    "# View the results, including cluster labels\n",
    "df_features.select(\"user_id\", \"features\", \"prediction\").show()"
   ]
  },
  {
   "cell_type": "code",
   "execution_count": 20,
   "id": "a372036a",
   "metadata": {},
   "outputs": [
    {
     "name": "stderr",
     "output_type": "stream",
     "text": [
      "[Stage 75:=====================================================>  (41 + 2) / 43]\r"
     ]
    },
    {
     "name": "stdout",
     "output_type": "stream",
     "text": [
      "Silhouette Score: 0.8091355292540965\n"
     ]
    },
    {
     "name": "stderr",
     "output_type": "stream",
     "text": [
      "\r",
      "                                                                                \r"
     ]
    }
   ],
   "source": [
    "# Silhouette Score\n",
    "evaluator = ClusteringEvaluator()\n",
    "silhouette_score = evaluator.evaluate(df_features)\n",
    "print(f\"Silhouette Score: {silhouette_score}\")"
   ]
  },
  {
   "cell_type": "code",
   "execution_count": 21,
   "id": "0b5dbec4",
   "metadata": {},
   "outputs": [
    {
     "name": "stderr",
     "output_type": "stream",
     "text": [
      "/opt/homebrew/Caskroom/miniconda/base/envs/spark/lib/python3.9/site-packages/pyspark/sql/pandas/conversion.py:117: UserWarning: toPandas attempted Arrow optimization because 'spark.sql.execution.arrow.pyspark.enabled' is set to true; however, failed by the reason below:\n",
      "  Unsupported type in conversion to Arrow: VectorUDT()\n",
      "Attempting non-optimization as 'spark.sql.execution.arrow.pyspark.fallback.enabled' is set to true.\n",
      "  warn(msg)\n",
      "                                                                                \r"
     ]
    }
   ],
   "source": [
    "# Extract cluster centers\n",
    "cluster_centers = model.clusterCenters()\n",
    "\n",
    "# Convert the DataFrame to Pandas for plotting\n",
    "df_pd = df_features.select(\"features\", \"prediction\").toPandas()"
   ]
  },
  {
   "cell_type": "code",
   "execution_count": 22,
   "id": "d233c8b1",
   "metadata": {},
   "outputs": [
    {
     "data": {
      "text/html": [
       "<div>\n",
       "<style scoped>\n",
       "    .dataframe tbody tr th:only-of-type {\n",
       "        vertical-align: middle;\n",
       "    }\n",
       "\n",
       "    .dataframe tbody tr th {\n",
       "        vertical-align: top;\n",
       "    }\n",
       "\n",
       "    .dataframe thead th {\n",
       "        text-align: right;\n",
       "    }\n",
       "</style>\n",
       "<table border=\"1\" class=\"dataframe\">\n",
       "  <thead>\n",
       "    <tr style=\"text-align: right;\">\n",
       "      <th></th>\n",
       "      <th>features</th>\n",
       "      <th>prediction</th>\n",
       "    </tr>\n",
       "  </thead>\n",
       "  <tbody>\n",
       "    <tr>\n",
       "      <th>0</th>\n",
       "      <td>[1022.3776461538464, 1993636.4100000004]</td>\n",
       "      <td>1</td>\n",
       "    </tr>\n",
       "    <tr>\n",
       "      <th>1</th>\n",
       "      <td>[375.5269006289307, 1492719.4299999997]</td>\n",
       "      <td>1</td>\n",
       "    </tr>\n",
       "    <tr>\n",
       "      <th>2</th>\n",
       "      <td>[1005.2567728531858, 1451590.7800000003]</td>\n",
       "      <td>1</td>\n",
       "    </tr>\n",
       "    <tr>\n",
       "      <th>3</th>\n",
       "      <td>[913.4229941434852, 1247735.8100000008]</td>\n",
       "      <td>1</td>\n",
       "    </tr>\n",
       "    <tr>\n",
       "      <th>4</th>\n",
       "      <td>[820.0875062761506, 980004.57]</td>\n",
       "      <td>4</td>\n",
       "    </tr>\n",
       "    <tr>\n",
       "      <th>...</th>\n",
       "      <td>...</td>\n",
       "      <td>...</td>\n",
       "    </tr>\n",
       "    <tr>\n",
       "      <th>495</th>\n",
       "      <td>[869.9410424710425, 225314.73]</td>\n",
       "      <td>0</td>\n",
       "    </tr>\n",
       "    <tr>\n",
       "      <th>496</th>\n",
       "      <td>[575.0435549872122, 224842.02999999997]</td>\n",
       "      <td>0</td>\n",
       "    </tr>\n",
       "    <tr>\n",
       "      <th>497</th>\n",
       "      <td>[614.2961202185793, 224832.38]</td>\n",
       "      <td>0</td>\n",
       "    </tr>\n",
       "    <tr>\n",
       "      <th>498</th>\n",
       "      <td>[423.6927169811321, 224557.14]</td>\n",
       "      <td>0</td>\n",
       "    </tr>\n",
       "    <tr>\n",
       "      <th>499</th>\n",
       "      <td>[372.39202321724713, 224552.39]</td>\n",
       "      <td>0</td>\n",
       "    </tr>\n",
       "  </tbody>\n",
       "</table>\n",
       "<p>500 rows × 2 columns</p>\n",
       "</div>"
      ],
      "text/plain": [
       "                                     features  prediction\n",
       "0    [1022.3776461538464, 1993636.4100000004]           1\n",
       "1     [375.5269006289307, 1492719.4299999997]           1\n",
       "2    [1005.2567728531858, 1451590.7800000003]           1\n",
       "3     [913.4229941434852, 1247735.8100000008]           1\n",
       "4              [820.0875062761506, 980004.57]           4\n",
       "..                                        ...         ...\n",
       "495            [869.9410424710425, 225314.73]           0\n",
       "496   [575.0435549872122, 224842.02999999997]           0\n",
       "497            [614.2961202185793, 224832.38]           0\n",
       "498            [423.6927169811321, 224557.14]           0\n",
       "499           [372.39202321724713, 224552.39]           0\n",
       "\n",
       "[500 rows x 2 columns]"
      ]
     },
     "execution_count": 22,
     "metadata": {},
     "output_type": "execute_result"
    }
   ],
   "source": [
    "df_pd"
   ]
  },
  {
   "cell_type": "code",
   "execution_count": 24,
   "id": "a5e62d13",
   "metadata": {},
   "outputs": [
    {
     "data": {
      "image/png": "[encoded data removed]",
      "text/plain": [
       "<Figure size 1000x600 with 1 Axes>"
      ]
     },
     "metadata": {},
     "output_type": "display_data"
    }
   ],
   "source": [
    "plt.figure(figsize=(10, 6))\n",
    "for cluster in range(k):\n",
    "    cluster_data = df_pd[df_pd[\"prediction\"] == cluster]\n",
    "    plt.scatter(cluster_data[\"features\"].apply(lambda x: x[0]), cluster_data[\"features\"].apply(lambda x: x[1]), label=f\"Cluster {cluster}\")\n",
    "\n",
    "plt.title(\"Customer Segmentation Clusters\")\n",
    "plt.xlabel(\"Average Spent\")\n",
    "plt.ylabel(\"Total Spent\")\n",
    "plt.legend()\n",
    "plt.grid(True)\n",
    "plt.show()"
   ]
  },
  {
   "cell_type": "code",
   "execution_count": null,
   "id": "340bd4df",
   "metadata": {},
   "outputs": [],
   "source": []
  },
  {
   "cell_type": "code",
   "execution_count": null,
   "id": "82359a65",
   "metadata": {},
   "outputs": [],
   "source": []
  }
 ],
 "metadata": {
  "kernelspec": {
   "display_name": "Python 3 (ipykernel)",
   "language": "python",
   "name": "python3"
  },
  "language_info": {
   "codemirror_mode": {
    "name": "ipython",
    "version": 3
   },
   "file_extension": ".py",
   "mimetype": "text/x-python",
   "name": "python",
   "nbconvert_exporter": "python",
   "pygments_lexer": "ipython3",
   "version": "3.9.17"
  }
 },
 "nbformat": 4,
 "nbformat_minor": 5
}
